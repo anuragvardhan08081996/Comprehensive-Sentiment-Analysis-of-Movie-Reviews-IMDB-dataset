{
 "cells": [
  {
   "cell_type": "markdown",
   "metadata": {
    "colab_type": "text",
    "id": "CY_RJGbydZCh"
   },
   "source": [
    "# <h1 align= 'center'>Gensim Word2Vec Embeddings</h1>"
   ]
  },
  {
   "cell_type": "markdown",
   "metadata": {},
   "source": [
    "The goal for this analysis is to predict if a review rates the movie positively or negatively. Inside this dataset there are 25,000 labeled movies reviews for training, 50,000 unlabeled reviews for training, and 25,000 reviews for testing.\n",
    "<a href=\"https://imgur.com/FfdEBRz\"><img src=\"https://i.imgur.com/FfdEBRzm.png\" title=\"source: imgur.com\" align=\"right\"></a>\n",
    "- IMDB movie reviews dataset\n",
    "- http://ai.stanford.edu/~amaas/data/sentiment\n",
    "- https://www.kaggle.com/lakshmi25npathi/imdb-dataset-of-50k-movie-reviews\n",
    "- Contains 25000 positive and 25000 negative reviews\n",
    "- Contains at most reviews per movie\n",
    "- At least 7 stars out of 10 $\\rightarrow$ positive (label = 1)\n",
    "- At most 4 stars out of 10 $\\rightarrow$ negative (label = 0)\n",
    "\n",
    "> **Here, we use Gensim Word2Vec vectors to train a bag of centroids model to train machine learning models on.**"
   ]
  },
  {
   "cell_type": "markdown",
   "metadata": {
    "colab_type": "text",
    "id": "NNX-9EtydZCj"
   },
   "source": [
    "## <h2 align = \"center\" >Dependecies</h2>"
   ]
  },
  {
   "cell_type": "code",
   "execution_count": 4,
   "metadata": {
    "colab": {
     "base_uri": "https://localhost:8080/",
     "height": 52
    },
    "colab_type": "code",
    "id": "pKWWJjN8dZCl",
    "outputId": "482f403a-c401-4273-be6a-1eae39137187"
   },
   "outputs": [
    {
     "name": "stdout",
     "output_type": "stream",
     "text": [
      "[nltk_data] Downloading package stopwords to /root/nltk_data...\n",
      "[nltk_data]   Package stopwords is already up-to-date!\n"
     ]
    }
   ],
   "source": [
    "import os\n",
    "import re\n",
    "import nltk\n",
    "import time\n",
    "import logging  \n",
    "import unicodedata\n",
    "import numpy as np\n",
    "import pandas as pd\n",
    "import seaborn as sns\n",
    "import multiprocessing\n",
    "from bs4 import BeautifulSoup\n",
    "import matplotlib.pyplot as plt\n",
    "from nltk.corpus import stopwords\n",
    "from collections import defaultdict\n",
    "from nltk.stem import SnowballStemmer\n",
    "from nltk.tokenize import word_tokenize, sent_tokenize\n",
    "from sklearn import preprocessing\n",
    "from gensim.models import word2vec\n",
    "from sklearn.cluster import KMeans\n",
    "from sklearn.ensemble import VotingClassifier as vc\n",
    "from sklearn.model_selection import cross_val_score\n",
    "from sklearn.svm import LinearSVC as svc\n",
    "from sklearn.linear_model import LogisticRegression as lr\n",
    "from sklearn.model_selection import train_test_split, GridSearchCV\n",
    "from sklearn.metrics import roc_auc_score, accuracy_score, confusion_matrix\n",
    "nltk.download('stopwords')\n",
    "import warnings\n",
    "warnings.filterwarnings('ignore')"
   ]
  },
  {
   "cell_type": "code",
   "execution_count": 0,
   "metadata": {
    "colab": {},
    "colab_type": "code",
    "id": "dK-znQrDdZCw"
   },
   "outputs": [],
   "source": [
    "# read from local\n",
    "# movies = pd.read_csv('data/imdb_data.csv')\n",
    "# movies.sample(7)"
   ]
  },
  {
   "cell_type": "code",
   "execution_count": 6,
   "metadata": {
    "colab": {
     "base_uri": "https://localhost:8080/",
     "height": 281
    },
    "colab_type": "code",
    "id": "Z6CdwW6idriM",
    "outputId": "d796c6a7-f3c9-483a-bdf3-26b35acebc2f"
   },
   "outputs": [
    {
     "name": "stdout",
     "output_type": "stream",
     "text": [
      "Drive already mounted at /content/drive; to attempt to forcibly remount, call drive.mount(\"/content/drive\", force_remount=True).\n"
     ]
    },
    {
     "data": {
      "text/html": [
       "<div>\n",
       "<style scoped>\n",
       "    .dataframe tbody tr th:only-of-type {\n",
       "        vertical-align: middle;\n",
       "    }\n",
       "\n",
       "    .dataframe tbody tr th {\n",
       "        vertical-align: top;\n",
       "    }\n",
       "\n",
       "    .dataframe thead th {\n",
       "        text-align: right;\n",
       "    }\n",
       "</style>\n",
       "<table border=\"1\" class=\"dataframe\">\n",
       "  <thead>\n",
       "    <tr style=\"text-align: right;\">\n",
       "      <th></th>\n",
       "      <th>review</th>\n",
       "      <th>sentiment</th>\n",
       "    </tr>\n",
       "  </thead>\n",
       "  <tbody>\n",
       "    <tr>\n",
       "      <th>45882</th>\n",
       "      <td>Largely forgettable monster film from the 50s ...</td>\n",
       "      <td>negative</td>\n",
       "    </tr>\n",
       "    <tr>\n",
       "      <th>9120</th>\n",
       "      <td>I'm a fan of good, plausible, action movies. A...</td>\n",
       "      <td>negative</td>\n",
       "    </tr>\n",
       "    <tr>\n",
       "      <th>37043</th>\n",
       "      <td>You know the story - a group of plucky no-hope...</td>\n",
       "      <td>positive</td>\n",
       "    </tr>\n",
       "    <tr>\n",
       "      <th>37290</th>\n",
       "      <td>This is one of the worst B slashers I've ever ...</td>\n",
       "      <td>negative</td>\n",
       "    </tr>\n",
       "    <tr>\n",
       "      <th>22188</th>\n",
       "      <td>This is possibly the single worst film i have ...</td>\n",
       "      <td>negative</td>\n",
       "    </tr>\n",
       "    <tr>\n",
       "      <th>36536</th>\n",
       "      <td>I think the romance of this movie helps couple...</td>\n",
       "      <td>positive</td>\n",
       "    </tr>\n",
       "    <tr>\n",
       "      <th>31401</th>\n",
       "      <td>is it just me or have all \"horror\" movies beco...</td>\n",
       "      <td>negative</td>\n",
       "    </tr>\n",
       "  </tbody>\n",
       "</table>\n",
       "</div>"
      ],
      "text/plain": [
       "                                                  review sentiment\n",
       "45882  Largely forgettable monster film from the 50s ...  negative\n",
       "9120   I'm a fan of good, plausible, action movies. A...  negative\n",
       "37043  You know the story - a group of plucky no-hope...  positive\n",
       "37290  This is one of the worst B slashers I've ever ...  negative\n",
       "22188  This is possibly the single worst film i have ...  negative\n",
       "36536  I think the romance of this movie helps couple...  positive\n",
       "31401  is it just me or have all \"horror\" movies beco...  negative"
      ]
     },
     "execution_count": 6,
     "metadata": {
      "tags": []
     },
     "output_type": "execute_result"
    }
   ],
   "source": [
    "# for importing data to colab\n",
    "from google.colab import drive \n",
    "drive.mount('/content/drive')\n",
    "\n",
    "movies = pd.read_csv('/content/drive/My Drive/Colab Notebooks/imdb_data.csv')\n",
    "movies.sample(7)"
   ]
  },
  {
   "cell_type": "code",
   "execution_count": 7,
   "metadata": {
    "colab": {
     "base_uri": "https://localhost:8080/",
     "height": 202
    },
    "colab_type": "code",
    "id": "0w-PU25AdZC8",
    "outputId": "f3753f82-81d3-4df9-8d9d-93b6827ccb53"
   },
   "outputs": [
    {
     "data": {
      "text/html": [
       "<div>\n",
       "<style scoped>\n",
       "    .dataframe tbody tr th:only-of-type {\n",
       "        vertical-align: middle;\n",
       "    }\n",
       "\n",
       "    .dataframe tbody tr th {\n",
       "        vertical-align: top;\n",
       "    }\n",
       "\n",
       "    .dataframe thead th {\n",
       "        text-align: right;\n",
       "    }\n",
       "</style>\n",
       "<table border=\"1\" class=\"dataframe\">\n",
       "  <thead>\n",
       "    <tr style=\"text-align: right;\">\n",
       "      <th></th>\n",
       "      <th>review</th>\n",
       "      <th>sentiment</th>\n",
       "    </tr>\n",
       "  </thead>\n",
       "  <tbody>\n",
       "    <tr>\n",
       "      <th>0</th>\n",
       "      <td>One of the other reviewers has mentioned that ...</td>\n",
       "      <td>1</td>\n",
       "    </tr>\n",
       "    <tr>\n",
       "      <th>1</th>\n",
       "      <td>A wonderful little production. &lt;br /&gt;&lt;br /&gt;The...</td>\n",
       "      <td>1</td>\n",
       "    </tr>\n",
       "    <tr>\n",
       "      <th>2</th>\n",
       "      <td>I thought this was a wonderful way to spend ti...</td>\n",
       "      <td>1</td>\n",
       "    </tr>\n",
       "    <tr>\n",
       "      <th>3</th>\n",
       "      <td>Basically there's a family where a little boy ...</td>\n",
       "      <td>0</td>\n",
       "    </tr>\n",
       "    <tr>\n",
       "      <th>4</th>\n",
       "      <td>Petter Mattei's \"Love in the Time of Money\" is...</td>\n",
       "      <td>1</td>\n",
       "    </tr>\n",
       "  </tbody>\n",
       "</table>\n",
       "</div>"
      ],
      "text/plain": [
       "                                              review  sentiment\n",
       "0  One of the other reviewers has mentioned that ...          1\n",
       "1  A wonderful little production. <br /><br />The...          1\n",
       "2  I thought this was a wonderful way to spend ti...          1\n",
       "3  Basically there's a family where a little boy ...          0\n",
       "4  Petter Mattei's \"Love in the Time of Money\" is...          1"
      ]
     },
     "execution_count": 7,
     "metadata": {
      "tags": []
     },
     "output_type": "execute_result"
    }
   ],
   "source": [
    "# Cateogrize positive and negative as 1 and 0 respectively\n",
    "\n",
    "label_encoder = preprocessing.LabelEncoder()\n",
    "movies['sentiment'] = label_encoder.fit_transform(movies['sentiment'])\n",
    "movies.head()"
   ]
  },
  {
   "cell_type": "code",
   "execution_count": 8,
   "metadata": {
    "colab": {
     "base_uri": "https://localhost:8080/",
     "height": 70
    },
    "colab_type": "code",
    "id": "8xmJjzqNdZDC",
    "outputId": "bed7d510-7687-4aeb-8745-d317577eb8ec"
   },
   "outputs": [
    {
     "name": "stdout",
     "output_type": "stream",
     "text": [
      "Train dataset shape: (40000,), \n",
      "Test dataset shape: (10000,)\n"
     ]
    },
    {
     "data": {
      "text/plain": [
       "<function print>"
      ]
     },
     "execution_count": 8,
     "metadata": {
      "tags": []
     },
     "output_type": "execute_result"
    }
   ],
   "source": [
    "X = movies['review']\n",
    "y = (np.array(movies['sentiment']))\n",
    "\n",
    "# Here we split data to training and testing parts\n",
    "X_train, X_test, y_train, y_test = train_test_split(X, y, test_size=0.2, random_state=7)\n",
    "print(f\"Train dataset shape: {X_train.shape}, \\nTest dataset shape: {X_test.shape}\")\n",
    "print"
   ]
  },
  {
   "cell_type": "markdown",
   "metadata": {
    "colab_type": "text",
    "id": "5zJXCRc4dZDH"
   },
   "source": [
    "## <h2> <center>Preprocessing</center></h2>"
   ]
  },
  {
   "cell_type": "code",
   "execution_count": 9,
   "metadata": {
    "colab": {
     "base_uri": "https://localhost:8080/",
     "height": 140
    },
    "colab_type": "code",
    "id": "ODii5SwtdZDI",
    "outputId": "ca5b0b11-7342-477e-f965-0faec01b697a"
   },
   "outputs": [
    {
     "name": "stdout",
     "output_type": "stream",
     "text": [
      "Requirement already satisfied: contractions in /usr/local/lib/python3.6/dist-packages (0.0.25)\n",
      "Requirement already satisfied: textsearch in /usr/local/lib/python3.6/dist-packages (from contractions) (0.0.17)\n",
      "Requirement already satisfied: Unidecode in /usr/local/lib/python3.6/dist-packages (from textsearch->contractions) (1.1.1)\n",
      "Requirement already satisfied: pyahocorasick in /usr/local/lib/python3.6/dist-packages (from textsearch->contractions) (1.4.0)\n",
      "Requirement already satisfied: textsearch in /usr/local/lib/python3.6/dist-packages (0.0.17)\n",
      "Requirement already satisfied: Unidecode in /usr/local/lib/python3.6/dist-packages (from textsearch) (1.1.1)\n",
      "Requirement already satisfied: pyahocorasick in /usr/local/lib/python3.6/dist-packages (from textsearch) (1.4.0)\n"
     ]
    }
   ],
   "source": [
    "!pip install contractions\n",
    "!pip install textsearch\n",
    "import contractions"
   ]
  },
  {
   "cell_type": "code",
   "execution_count": 0,
   "metadata": {
    "colab": {},
    "colab_type": "code",
    "id": "jtrqCv_FdZDN"
   },
   "outputs": [],
   "source": [
    "def review_to_wordlist(review, custom = True, stem_words = True):\n",
    "    # Clean the text, with the option to remove stopwords and stem words.\n",
    "    \n",
    "    # Strip html\n",
    "    soup = BeautifulSoup(review, \"html.parser\")\n",
    "    [s.extract() for s in soup(['iframe', 'script'])]\n",
    "    stripped_text = soup.get_text()\n",
    "    review_text = re.sub(r'[\\r|\\n|\\r\\n]+', '\\n', stripped_text)\n",
    "    \n",
    "    # replace accents\n",
    "    review_text = unicodedata.normalize('NFKD', review_text).encode('ascii', 'ignore').decode('utf-8', 'ignore')\n",
    "    review_text = re.sub(r\"[^A-Za-z0-9!?\\'\\`]\", \" \", review_text) # remove special characters\n",
    "    review_text = contractions.fix(review_text) # expand contractions\n",
    "    \n",
    "    review_text = review_text.lower()\n",
    "    words = review_text.split()\n",
    "    if custom:\n",
    "        stop_words = set(nltk.corpus.stopwords.words('english'))\n",
    "        stop_words.update(['movie', 'film', 'one', 'would', 'even', \n",
    "                           'movies', 'films', 'cinema',\n",
    "                           'character', 'show', \"'\", \"!\", 'like'])\n",
    "    else:\n",
    "        stop_words = set(nltk.corpus.stopwords.words('english'))\n",
    "    words = [w for w in words if not w in stop_words]\n",
    "    review_text = \" \".join(words)\n",
    "        \n",
    "    review_text = re.sub(r\"!\", \" ! \", review_text)\n",
    "    review_text = re.sub(r\"\\?\", \" ? \", review_text)\n",
    "    review_text = re.sub(r\"\\s{2,}\", \" \", review_text)\n",
    "    \n",
    "    if stem_words:\n",
    "        words = review_text.split()\n",
    "        stemmer = SnowballStemmer('english')\n",
    "        stemmed_words = [stemmer.stem(word) for word in words]\n",
    "        review_text = \" \".join(stemmed_words)\n",
    "    \n",
    "    # Return a list of words, with each word as its own string\n",
    "    return review_text.split()"
   ]
  },
  {
   "cell_type": "code",
   "execution_count": 0,
   "metadata": {
    "colab": {},
    "colab_type": "code",
    "id": "l1dU0RtPdZDS"
   },
   "outputs": [],
   "source": [
    "def review_to_sentences(review):\n",
    "    # Split a review into parsed sentences\n",
    "    \n",
    "    raw_sentences = sent_tokenize(review.strip())\n",
    "    \n",
    "    sentences = []\n",
    "    for raw_sentence in raw_sentences:\n",
    "        if len(raw_sentence) > 0:\n",
    "            sentences.append(review_to_wordlist(raw_sentence))\n",
    "    \n",
    "    # Each sentence is a list of words, so this returns a list of lists\n",
    "    return sentences"
   ]
  },
  {
   "cell_type": "code",
   "execution_count": 12,
   "metadata": {
    "colab": {
     "base_uri": "https://localhost:8080/",
     "height": 34
    },
    "colab_type": "code",
    "id": "G8Nmi7KddZDa",
    "outputId": "2b746e47-71a1-48e2-fe61-1e0b56ac3e87"
   },
   "outputs": [
    {
     "name": "stdout",
     "output_type": "stream",
     "text": [
      "Parsing sentences\n"
     ]
    }
   ],
   "source": [
    "sentences = [] \n",
    "\n",
    "print (\"Parsing sentences ...\")\n",
    "for review in movies['review']:\n",
    "    sentences += review_to_sentences(review)"
   ]
  },
  {
   "cell_type": "code",
   "execution_count": 13,
   "metadata": {
    "colab": {
     "base_uri": "https://localhost:8080/",
     "height": 105
    },
    "colab_type": "code",
    "id": "8ZJjmfe4dZDf",
    "outputId": "f843869c-c636-4ed9-ba27-418c4552469c"
   },
   "outputs": [
    {
     "name": "stdout",
     "output_type": "stream",
     "text": [
      "536641\n",
      "\n",
      "['review', 'mention', 'watch', '1', 'oz', 'episod', 'hook']\n",
      "\n",
      "['right', 'exact', 'happen', 'first', 'thing', 'struck', 'oz', 'brutal', 'unflinch', 'scene', 'violenc', 'set', 'right', 'word', 'go']\n"
     ]
    }
   ],
   "source": [
    "# Check how many sentences we have in total \n",
    "print (len(sentences))\n",
    "print()\n",
    "print (sentences[0])\n",
    "print()\n",
    "print (sentences[1])"
   ]
  },
  {
   "cell_type": "code",
   "execution_count": 14,
   "metadata": {
    "colab": {
     "base_uri": "https://localhost:8080/",
     "height": 1000
    },
    "colab_type": "code",
    "id": "FD4f17nfdZDn",
    "outputId": "670cd68c-45c8-489c-951e-a990c7ab6028"
   },
   "outputs": [
    {
     "name": "stderr",
     "output_type": "stream",
     "text": [
      "2020-06-15 08:49:58,755 : INFO : collecting all words and their counts\n",
      "2020-06-15 08:49:58,756 : INFO : PROGRESS: at sentence #0, processed 0 words, keeping 0 word types\n",
      "2020-06-15 08:49:58,786 : INFO : PROGRESS: at sentence #10000, processed 109778 words, keeping 12281 word types\n",
      "2020-06-15 08:49:58,815 : INFO : PROGRESS: at sentence #20000, processed 212154 words, keeping 16957 word types\n",
      "2020-06-15 08:49:58,848 : INFO : PROGRESS: at sentence #30000, processed 319839 words, keeping 20449 word types\n",
      "2020-06-15 08:49:58,881 : INFO : PROGRESS: at sentence #40000, processed 428708 words, keeping 23465 word types\n",
      "2020-06-15 08:49:58,912 : INFO : PROGRESS: at sentence #50000, processed 537485 words, keeping 26085 word types\n"
     ]
    },
    {
     "name": "stdout",
     "output_type": "stream",
     "text": [
      "Training model...\n"
     ]
    },
    {
     "name": "stderr",
     "output_type": "stream",
     "text": [
      "2020-06-15 08:49:58,944 : INFO : PROGRESS: at sentence #60000, processed 646687 words, keeping 28320 word types\n",
      "2020-06-15 08:49:58,975 : INFO : PROGRESS: at sentence #70000, processed 753268 words, keeping 30256 word types\n",
      "2020-06-15 08:49:59,008 : INFO : PROGRESS: at sentence #80000, processed 857437 words, keeping 31994 word types\n",
      "2020-06-15 08:49:59,039 : INFO : PROGRESS: at sentence #90000, processed 964462 words, keeping 33724 word types\n",
      "2020-06-15 08:49:59,072 : INFO : PROGRESS: at sentence #100000, processed 1073858 words, keeping 35321 word types\n",
      "2020-06-15 08:49:59,104 : INFO : PROGRESS: at sentence #110000, processed 1177634 words, keeping 36826 word types\n",
      "2020-06-15 08:49:59,137 : INFO : PROGRESS: at sentence #120000, processed 1284683 words, keeping 38314 word types\n",
      "2020-06-15 08:49:59,169 : INFO : PROGRESS: at sentence #130000, processed 1392303 words, keeping 39769 word types\n",
      "2020-06-15 08:49:59,200 : INFO : PROGRESS: at sentence #140000, processed 1500998 words, keeping 41017 word types\n",
      "2020-06-15 08:49:59,231 : INFO : PROGRESS: at sentence #150000, processed 1606199 words, keeping 42103 word types\n",
      "2020-06-15 08:49:59,264 : INFO : PROGRESS: at sentence #160000, processed 1709464 words, keeping 43344 word types\n",
      "2020-06-15 08:49:59,298 : INFO : PROGRESS: at sentence #170000, processed 1815287 words, keeping 44511 word types\n",
      "2020-06-15 08:49:59,328 : INFO : PROGRESS: at sentence #180000, processed 1923822 words, keeping 45640 word types\n",
      "2020-06-15 08:49:59,360 : INFO : PROGRESS: at sentence #190000, processed 2030493 words, keeping 46754 word types\n",
      "2020-06-15 08:49:59,393 : INFO : PROGRESS: at sentence #200000, processed 2137161 words, keeping 47818 word types\n",
      "2020-06-15 08:49:59,427 : INFO : PROGRESS: at sentence #210000, processed 2242436 words, keeping 48777 word types\n",
      "2020-06-15 08:49:59,456 : INFO : PROGRESS: at sentence #220000, processed 2349563 words, keeping 49796 word types\n",
      "2020-06-15 08:49:59,487 : INFO : PROGRESS: at sentence #230000, processed 2457218 words, keeping 50778 word types\n",
      "2020-06-15 08:49:59,523 : INFO : PROGRESS: at sentence #240000, processed 2565340 words, keeping 51686 word types\n",
      "2020-06-15 08:49:59,558 : INFO : PROGRESS: at sentence #250000, processed 2673692 words, keeping 52671 word types\n",
      "2020-06-15 08:49:59,590 : INFO : PROGRESS: at sentence #260000, processed 2779580 words, keeping 53517 word types\n",
      "2020-06-15 08:49:59,630 : INFO : PROGRESS: at sentence #270000, processed 2886777 words, keeping 54396 word types\n",
      "2020-06-15 08:49:59,663 : INFO : PROGRESS: at sentence #280000, processed 2995319 words, keeping 55269 word types\n",
      "2020-06-15 08:49:59,695 : INFO : PROGRESS: at sentence #290000, processed 3100226 words, keeping 56168 word types\n",
      "2020-06-15 08:49:59,725 : INFO : PROGRESS: at sentence #300000, processed 3206848 words, keeping 57044 word types\n",
      "2020-06-15 08:49:59,759 : INFO : PROGRESS: at sentence #310000, processed 3313385 words, keeping 57964 word types\n",
      "2020-06-15 08:49:59,791 : INFO : PROGRESS: at sentence #320000, processed 3421826 words, keeping 58789 word types\n",
      "2020-06-15 08:49:59,833 : INFO : PROGRESS: at sentence #330000, processed 3527656 words, keeping 59632 word types\n",
      "2020-06-15 08:49:59,874 : INFO : PROGRESS: at sentence #340000, processed 3633892 words, keeping 60481 word types\n",
      "2020-06-15 08:49:59,907 : INFO : PROGRESS: at sentence #350000, processed 3742024 words, keeping 61275 word types\n",
      "2020-06-15 08:49:59,936 : INFO : PROGRESS: at sentence #360000, processed 3847201 words, keeping 62015 word types\n",
      "2020-06-15 08:49:59,971 : INFO : PROGRESS: at sentence #370000, processed 3955076 words, keeping 62857 word types\n",
      "2020-06-15 08:50:00,004 : INFO : PROGRESS: at sentence #380000, processed 4061677 words, keeping 63616 word types\n",
      "2020-06-15 08:50:00,036 : INFO : PROGRESS: at sentence #390000, processed 4166619 words, keeping 64359 word types\n",
      "2020-06-15 08:50:00,069 : INFO : PROGRESS: at sentence #400000, processed 4271805 words, keeping 65154 word types\n",
      "2020-06-15 08:50:00,101 : INFO : PROGRESS: at sentence #410000, processed 4378270 words, keeping 65874 word types\n",
      "2020-06-15 08:50:00,139 : INFO : PROGRESS: at sentence #420000, processed 4481795 words, keeping 66535 word types\n",
      "2020-06-15 08:50:00,175 : INFO : PROGRESS: at sentence #430000, processed 4589718 words, keeping 67216 word types\n",
      "2020-06-15 08:50:00,208 : INFO : PROGRESS: at sentence #440000, processed 4695359 words, keeping 67917 word types\n",
      "2020-06-15 08:50:00,241 : INFO : PROGRESS: at sentence #450000, processed 4800688 words, keeping 68615 word types\n",
      "2020-06-15 08:50:00,274 : INFO : PROGRESS: at sentence #460000, processed 4903791 words, keeping 69364 word types\n",
      "2020-06-15 08:50:00,314 : INFO : PROGRESS: at sentence #470000, processed 5010226 words, keeping 70101 word types\n",
      "2020-06-15 08:50:00,347 : INFO : PROGRESS: at sentence #480000, processed 5117841 words, keeping 70769 word types\n",
      "2020-06-15 08:50:00,378 : INFO : PROGRESS: at sentence #490000, processed 5224170 words, keeping 71485 word types\n",
      "2020-06-15 08:50:00,414 : INFO : PROGRESS: at sentence #500000, processed 5331254 words, keeping 72165 word types\n",
      "2020-06-15 08:50:00,449 : INFO : PROGRESS: at sentence #510000, processed 5436684 words, keeping 72809 word types\n",
      "2020-06-15 08:50:00,479 : INFO : PROGRESS: at sentence #520000, processed 5543398 words, keeping 73446 word types\n",
      "2020-06-15 08:50:00,512 : INFO : PROGRESS: at sentence #530000, processed 5647684 words, keeping 74053 word types\n",
      "2020-06-15 08:50:00,531 : INFO : collected 74476 word types from a corpus of 5715770 raw words and 536641 sentences\n",
      "2020-06-15 08:50:00,532 : INFO : Loading a fresh vocabulary\n",
      "2020-06-15 08:50:00,611 : INFO : effective_min_count=5 retains 26790 unique words (35% of original 74476, drops 47686)\n",
      "2020-06-15 08:50:00,612 : INFO : effective_min_count=5 leaves 5641671 word corpus (98% of original 5715770, drops 74099)\n",
      "2020-06-15 08:50:00,707 : INFO : deleting the raw counts dictionary of 74476 items\n",
      "2020-06-15 08:50:00,713 : INFO : sample=0.0001 downsamples 751 most-common words\n",
      "2020-06-15 08:50:00,719 : INFO : downsampling leaves estimated 3775087 word corpus (66.9% of prior 5641671)\n",
      "2020-06-15 08:50:00,818 : INFO : estimated required memory for 26790 words and 300 dimensions: 77691000 bytes\n",
      "2020-06-15 08:50:00,819 : INFO : resetting layer weights\n",
      "2020-06-15 08:50:05,956 : INFO : training model with 1 workers on 26790 vocabulary and 300 features, using sg=0 hs=0 sample=0.0001 negative=5 window=20\n",
      "2020-06-15 08:50:06,976 : INFO : EPOCH 1 - PROGRESS: at 6.07% examples, 228543 words/s, in_qsize 1, out_qsize 0\n",
      "2020-06-15 08:50:07,994 : INFO : EPOCH 1 - PROGRESS: at 12.09% examples, 227690 words/s, in_qsize 1, out_qsize 0\n",
      "2020-06-15 08:50:09,013 : INFO : EPOCH 1 - PROGRESS: at 18.21% examples, 227408 words/s, in_qsize 1, out_qsize 0\n",
      "2020-06-15 08:50:10,033 : INFO : EPOCH 1 - PROGRESS: at 24.16% examples, 225428 words/s, in_qsize 1, out_qsize 0\n",
      "2020-06-15 08:50:11,064 : INFO : EPOCH 1 - PROGRESS: at 30.14% examples, 223764 words/s, in_qsize 1, out_qsize 0\n",
      "2020-06-15 08:50:12,071 : INFO : EPOCH 1 - PROGRESS: at 35.89% examples, 222538 words/s, in_qsize 1, out_qsize 0\n",
      "2020-06-15 08:50:13,090 : INFO : EPOCH 1 - PROGRESS: at 41.85% examples, 222123 words/s, in_qsize 2, out_qsize 0\n",
      "2020-06-15 08:50:14,090 : INFO : EPOCH 1 - PROGRESS: at 47.54% examples, 221591 words/s, in_qsize 1, out_qsize 0\n",
      "2020-06-15 08:50:15,097 : INFO : EPOCH 1 - PROGRESS: at 53.46% examples, 221754 words/s, in_qsize 2, out_qsize 0\n",
      "2020-06-15 08:50:16,130 : INFO : EPOCH 1 - PROGRESS: at 59.54% examples, 221970 words/s, in_qsize 2, out_qsize 0\n",
      "2020-06-15 08:50:17,152 : INFO : EPOCH 1 - PROGRESS: at 65.47% examples, 221744 words/s, in_qsize 1, out_qsize 0\n",
      "2020-06-15 08:50:18,162 : INFO : EPOCH 1 - PROGRESS: at 71.44% examples, 221838 words/s, in_qsize 1, out_qsize 0\n",
      "2020-06-15 08:50:19,182 : INFO : EPOCH 1 - PROGRESS: at 77.62% examples, 222169 words/s, in_qsize 1, out_qsize 0\n",
      "2020-06-15 08:50:20,200 : INFO : EPOCH 1 - PROGRESS: at 83.78% examples, 222486 words/s, in_qsize 1, out_qsize 0\n",
      "2020-06-15 08:50:21,223 : INFO : EPOCH 1 - PROGRESS: at 89.91% examples, 222747 words/s, in_qsize 1, out_qsize 0\n",
      "2020-06-15 08:50:22,233 : INFO : EPOCH 1 - PROGRESS: at 95.90% examples, 222734 words/s, in_qsize 1, out_qsize 0\n",
      "2020-06-15 08:50:22,886 : INFO : worker thread finished; awaiting finish of 0 more threads\n",
      "2020-06-15 08:50:22,887 : INFO : EPOCH - 1 : training on 5715770 raw words (3775166 effective words) took 16.9s, 223083 effective words/s\n",
      "2020-06-15 08:50:23,901 : INFO : EPOCH 2 - PROGRESS: at 6.07% examples, 229194 words/s, in_qsize 1, out_qsize 0\n",
      "2020-06-15 08:50:24,908 : INFO : EPOCH 2 - PROGRESS: at 12.09% examples, 229253 words/s, in_qsize 1, out_qsize 0\n",
      "2020-06-15 08:50:25,917 : INFO : EPOCH 2 - PROGRESS: at 18.21% examples, 229008 words/s, in_qsize 1, out_qsize 0\n",
      "2020-06-15 08:50:26,933 : INFO : EPOCH 2 - PROGRESS: at 24.34% examples, 228484 words/s, in_qsize 1, out_qsize 0\n",
      "2020-06-15 08:50:27,947 : INFO : EPOCH 2 - PROGRESS: at 30.51% examples, 228249 words/s, in_qsize 1, out_qsize 0\n",
      "2020-06-15 08:50:28,968 : INFO : EPOCH 2 - PROGRESS: at 36.61% examples, 227964 words/s, in_qsize 1, out_qsize 0\n",
      "2020-06-15 08:50:29,973 : INFO : EPOCH 2 - PROGRESS: at 42.53% examples, 227284 words/s, in_qsize 1, out_qsize 0\n",
      "2020-06-15 08:50:30,982 : INFO : EPOCH 2 - PROGRESS: at 48.60% examples, 227492 words/s, in_qsize 1, out_qsize 0\n",
      "2020-06-15 08:50:31,986 : INFO : EPOCH 2 - PROGRESS: at 54.69% examples, 227729 words/s, in_qsize 1, out_qsize 0\n",
      "2020-06-15 08:50:33,003 : INFO : EPOCH 2 - PROGRESS: at 60.76% examples, 227684 words/s, in_qsize 1, out_qsize 0\n",
      "2020-06-15 08:50:34,010 : INFO : EPOCH 2 - PROGRESS: at 66.90% examples, 227867 words/s, in_qsize 1, out_qsize 0\n",
      "2020-06-15 08:50:35,024 : INFO : EPOCH 2 - PROGRESS: at 73.03% examples, 227930 words/s, in_qsize 1, out_qsize 0\n",
      "2020-06-15 08:50:36,028 : INFO : EPOCH 2 - PROGRESS: at 79.22% examples, 228056 words/s, in_qsize 1, out_qsize 0\n",
      "2020-06-15 08:50:37,033 : INFO : EPOCH 2 - PROGRESS: at 85.41% examples, 228155 words/s, in_qsize 1, out_qsize 0\n",
      "2020-06-15 08:50:38,045 : INFO : EPOCH 2 - PROGRESS: at 91.50% examples, 228176 words/s, in_qsize 1, out_qsize 0\n",
      "2020-06-15 08:50:39,072 : INFO : EPOCH 2 - PROGRESS: at 97.61% examples, 227951 words/s, in_qsize 1, out_qsize 0\n",
      "2020-06-15 08:50:39,448 : INFO : worker thread finished; awaiting finish of 0 more threads\n",
      "2020-06-15 08:50:39,449 : INFO : EPOCH - 2 : training on 5715770 raw words (3773970 effective words) took 16.6s, 227966 effective words/s\n",
      "2020-06-15 08:50:40,464 : INFO : EPOCH 3 - PROGRESS: at 6.07% examples, 228940 words/s, in_qsize 1, out_qsize 0\n",
      "2020-06-15 08:50:41,487 : INFO : EPOCH 3 - PROGRESS: at 12.09% examples, 227327 words/s, in_qsize 1, out_qsize 0\n",
      "2020-06-15 08:50:42,513 : INFO : EPOCH 3 - PROGRESS: at 18.21% examples, 226523 words/s, in_qsize 1, out_qsize 0\n",
      "2020-06-15 08:50:43,533 : INFO : EPOCH 3 - PROGRESS: at 24.34% examples, 226434 words/s, in_qsize 2, out_qsize 0\n",
      "2020-06-15 08:50:44,551 : INFO : EPOCH 3 - PROGRESS: at 30.51% examples, 226374 words/s, in_qsize 1, out_qsize 0\n",
      "2020-06-15 08:50:45,575 : INFO : EPOCH 3 - PROGRESS: at 36.61% examples, 226343 words/s, in_qsize 1, out_qsize 0\n",
      "2020-06-15 08:50:46,595 : INFO : EPOCH 3 - PROGRESS: at 42.69% examples, 226347 words/s, in_qsize 1, out_qsize 0\n",
      "2020-06-15 08:50:47,617 : INFO : EPOCH 3 - PROGRESS: at 48.77% examples, 226350 words/s, in_qsize 1, out_qsize 0\n",
      "2020-06-15 08:50:48,644 : INFO : EPOCH 3 - PROGRESS: at 54.88% examples, 226170 words/s, in_qsize 2, out_qsize 0\n",
      "2020-06-15 08:50:49,648 : INFO : EPOCH 3 - PROGRESS: at 60.94% examples, 226564 words/s, in_qsize 1, out_qsize 0\n",
      "2020-06-15 08:50:50,654 : INFO : EPOCH 3 - PROGRESS: at 67.07% examples, 226819 words/s, in_qsize 1, out_qsize 0\n",
      "2020-06-15 08:50:51,668 : INFO : EPOCH 3 - PROGRESS: at 73.21% examples, 226945 words/s, in_qsize 1, out_qsize 0\n",
      "2020-06-15 08:50:52,677 : INFO : EPOCH 3 - PROGRESS: at 79.39% examples, 227037 words/s, in_qsize 2, out_qsize 0\n",
      "2020-06-15 08:50:53,705 : INFO : EPOCH 3 - PROGRESS: at 85.75% examples, 227314 words/s, in_qsize 1, out_qsize 0\n",
      "2020-06-15 08:50:54,707 : INFO : EPOCH 3 - PROGRESS: at 91.86% examples, 227522 words/s, in_qsize 1, out_qsize 0\n",
      "2020-06-15 08:50:55,717 : INFO : EPOCH 3 - PROGRESS: at 98.01% examples, 227576 words/s, in_qsize 1, out_qsize 0\n",
      "2020-06-15 08:50:56,040 : INFO : worker thread finished; awaiting finish of 0 more threads\n",
      "2020-06-15 08:50:56,041 : INFO : EPOCH - 3 : training on 5715770 raw words (3773400 effective words) took 16.6s, 227534 effective words/s\n",
      "2020-06-15 08:50:57,078 : INFO : EPOCH 4 - PROGRESS: at 6.25% examples, 230727 words/s, in_qsize 1, out_qsize 0\n",
      "2020-06-15 08:50:58,103 : INFO : EPOCH 4 - PROGRESS: at 12.45% examples, 231122 words/s, in_qsize 1, out_qsize 0\n",
      "2020-06-15 08:50:59,121 : INFO : EPOCH 4 - PROGRESS: at 18.56% examples, 229899 words/s, in_qsize 1, out_qsize 0\n",
      "2020-06-15 08:51:00,130 : INFO : EPOCH 4 - PROGRESS: at 24.68% examples, 229451 words/s, in_qsize 1, out_qsize 0\n",
      "2020-06-15 08:51:01,138 : INFO : EPOCH 4 - PROGRESS: at 30.87% examples, 229325 words/s, in_qsize 1, out_qsize 0\n",
      "2020-06-15 08:51:02,147 : INFO : EPOCH 4 - PROGRESS: at 36.78% examples, 228180 words/s, in_qsize 1, out_qsize 0\n",
      "2020-06-15 08:51:03,161 : INFO : EPOCH 4 - PROGRESS: at 42.69% examples, 227238 words/s, in_qsize 1, out_qsize 0\n",
      "2020-06-15 08:51:04,183 : INFO : EPOCH 4 - PROGRESS: at 48.60% examples, 226311 words/s, in_qsize 1, out_qsize 0\n",
      "2020-06-15 08:51:05,200 : INFO : EPOCH 4 - PROGRESS: at 54.52% examples, 225655 words/s, in_qsize 1, out_qsize 0\n",
      "2020-06-15 08:51:06,202 : INFO : EPOCH 4 - PROGRESS: at 60.43% examples, 225454 words/s, in_qsize 1, out_qsize 0\n",
      "2020-06-15 08:51:07,212 : INFO : EPOCH 4 - PROGRESS: at 66.36% examples, 225144 words/s, in_qsize 1, out_qsize 0\n",
      "2020-06-15 08:51:08,221 : INFO : EPOCH 4 - PROGRESS: at 72.31% examples, 224985 words/s, in_qsize 1, out_qsize 0\n",
      "2020-06-15 08:51:09,223 : INFO : EPOCH 4 - PROGRESS: at 78.35% examples, 224898 words/s, in_qsize 1, out_qsize 0\n",
      "2020-06-15 08:51:10,251 : INFO : EPOCH 4 - PROGRESS: at 84.49% examples, 224847 words/s, in_qsize 2, out_qsize 0\n",
      "2020-06-15 08:51:11,255 : INFO : EPOCH 4 - PROGRESS: at 90.42% examples, 224765 words/s, in_qsize 1, out_qsize 0\n",
      "2020-06-15 08:51:12,261 : INFO : EPOCH 4 - PROGRESS: at 96.43% examples, 224667 words/s, in_qsize 1, out_qsize 0\n",
      "2020-06-15 08:51:12,844 : INFO : worker thread finished; awaiting finish of 0 more threads\n",
      "2020-06-15 08:51:12,845 : INFO : EPOCH - 4 : training on 5715770 raw words (3774448 effective words) took 16.8s, 224717 effective words/s\n",
      "2020-06-15 08:51:13,888 : INFO : EPOCH 5 - PROGRESS: at 6.07% examples, 224871 words/s, in_qsize 1, out_qsize 0\n",
      "2020-06-15 08:51:14,905 : INFO : EPOCH 5 - PROGRESS: at 12.09% examples, 226094 words/s, in_qsize 1, out_qsize 0\n",
      "2020-06-15 08:51:15,910 : INFO : EPOCH 5 - PROGRESS: at 18.04% examples, 225251 words/s, in_qsize 1, out_qsize 0\n",
      "2020-06-15 08:51:16,924 : INFO : EPOCH 5 - PROGRESS: at 23.98% examples, 224244 words/s, in_qsize 1, out_qsize 0\n",
      "2020-06-15 08:51:17,934 : INFO : EPOCH 5 - PROGRESS: at 30.14% examples, 224976 words/s, in_qsize 1, out_qsize 0\n",
      "2020-06-15 08:51:18,950 : INFO : EPOCH 5 - PROGRESS: at 36.24% examples, 225477 words/s, in_qsize 1, out_qsize 0\n",
      "2020-06-15 08:51:19,963 : INFO : EPOCH 5 - PROGRESS: at 42.36% examples, 225789 words/s, in_qsize 1, out_qsize 0\n",
      "2020-06-15 08:51:20,975 : INFO : EPOCH 5 - PROGRESS: at 48.42% examples, 226137 words/s, in_qsize 1, out_qsize 0\n",
      "2020-06-15 08:51:21,988 : INFO : EPOCH 5 - PROGRESS: at 54.52% examples, 226375 words/s, in_qsize 1, out_qsize 0\n",
      "2020-06-15 08:51:23,013 : INFO : EPOCH 5 - PROGRESS: at 60.60% examples, 226242 words/s, in_qsize 1, out_qsize 0\n",
      "2020-06-15 08:51:24,016 : INFO : EPOCH 5 - PROGRESS: at 66.72% examples, 226641 words/s, in_qsize 1, out_qsize 0\n",
      "2020-06-15 08:51:25,026 : INFO : EPOCH 5 - PROGRESS: at 72.85% examples, 226844 words/s, in_qsize 1, out_qsize 0\n",
      "2020-06-15 08:51:26,048 : INFO : EPOCH 5 - PROGRESS: at 79.22% examples, 227282 words/s, in_qsize 1, out_qsize 0\n",
      "2020-06-15 08:51:27,058 : INFO : EPOCH 5 - PROGRESS: at 85.41% examples, 227358 words/s, in_qsize 1, out_qsize 0\n",
      "2020-06-15 08:51:28,069 : INFO : EPOCH 5 - PROGRESS: at 91.50% examples, 227451 words/s, in_qsize 1, out_qsize 0\n",
      "2020-06-15 08:51:29,072 : INFO : EPOCH 5 - PROGRESS: at 97.61% examples, 227596 words/s, in_qsize 1, out_qsize 0\n",
      "2020-06-15 08:51:29,453 : INFO : worker thread finished; awaiting finish of 0 more threads\n",
      "2020-06-15 08:51:29,454 : INFO : EPOCH - 5 : training on 5715770 raw words (3776143 effective words) took 16.6s, 227549 effective words/s\n",
      "2020-06-15 08:51:29,459 : INFO : training on a 28578850 raw words (18873127 effective words) took 83.5s, 226022 effective words/s\n",
      "2020-06-15 08:51:29,460 : INFO : precomputing L2-norms of word weight vectors\n",
      "2020-06-15 08:51:29,674 : INFO : saving Word2Vec object under 300features_5minwords_20context, separately None\n",
      "2020-06-15 08:51:29,675 : INFO : not storing attribute vectors_norm\n",
      "2020-06-15 08:51:29,677 : INFO : not storing attribute cum_table\n",
      "2020-06-15 08:51:30,944 : INFO : saved 300features_5minwords_20context\n"
     ]
    }
   ],
   "source": [
    "# Import the built-in logging module and configure it so that Word2Vec \n",
    "# creates nice output messages\n",
    "logging.basicConfig(format='%(asctime)s : %(levelname)s : %(message)s', level=logging.INFO)\n",
    "\n",
    "num_features = 300      # Word vector dimensionality                      \n",
    "min_word_count = 5      # Minimum word count                        \n",
    "num_workers = 1         # Number of threads to run in parallel\n",
    "context = 20            # Context window size                                                                                    \n",
    "downsampling = 1e-4     # Downsample setting for frequent words\n",
    "\n",
    "\n",
    "# Initialize and train the model\n",
    "print (\"Training model...\")\n",
    "model = word2vec.Word2Vec(sentences, \n",
    "                          workers = num_workers,\n",
    "                          size = num_features,\n",
    "                          min_count = min_word_count,\n",
    "                          window = context, \n",
    "                          sample = downsampling)\n",
    "\n",
    "# Call init_sims because we won't train the model any further \n",
    "# This will make the model much more memory-efficient.\n",
    "model.init_sims(replace=True)\n",
    "\n",
    "# save the model for potential, future use.\n",
    "model_name = \"{}features_{}minwords_{}context\".format(num_features,min_word_count,context)\n",
    "model.save(model_name)"
   ]
  },
  {
   "cell_type": "code",
   "execution_count": 0,
   "metadata": {
    "colab": {},
    "colab_type": "code",
    "id": "L81V8UJldZDu"
   },
   "outputs": [],
   "source": [
    "# Load the model, if necessary\n",
    "# model = Word2Vec.load(\"300features_5minwords_20context\") "
   ]
  },
  {
   "cell_type": "code",
   "execution_count": 16,
   "metadata": {
    "colab": {
     "base_uri": "https://localhost:8080/",
     "height": 193
    },
    "colab_type": "code",
    "id": "ELWKtrLfdZD2",
    "outputId": "9a63e838-852a-47fd-d3ec-50184874f3a7"
   },
   "outputs": [
    {
     "data": {
      "text/plain": [
       "[('excel', 0.816072940826416),\n",
       " ('fantast', 0.7999541163444519),\n",
       " ('amaz', 0.7569818496704102),\n",
       " ('superb', 0.7192660570144653),\n",
       " ('fine', 0.718612790107727),\n",
       " ('terrif', 0.7167623043060303),\n",
       " ('phenomen', 0.7158746719360352),\n",
       " ('underr', 0.7157354354858398),\n",
       " ('ensembl', 0.7065820693969727),\n",
       " ('good', 0.7016606330871582)]"
      ]
     },
     "execution_count": 16,
     "metadata": {
      "tags": []
     },
     "output_type": "execute_result"
    }
   ],
   "source": [
    "model.most_similar(\"great\")"
   ]
  },
  {
   "cell_type": "code",
   "execution_count": 17,
   "metadata": {
    "colab": {
     "base_uri": "https://localhost:8080/",
     "height": 193
    },
    "colab_type": "code",
    "id": "OAHKYhFydZEB",
    "outputId": "20b96545-5f69-4685-a381-b93ba9ab0156"
   },
   "outputs": [
    {
     "data": {
      "text/plain": [
       "[('simpl', 0.7496218085289001),\n",
       " ('weav', 0.7315472364425659),\n",
       " ('unfold', 0.727018415927887),\n",
       " ('intrigu', 0.7213847041130066),\n",
       " ('intertwin', 0.7189603447914124),\n",
       " ('straightforward', 0.7178325057029724),\n",
       " ('develop', 0.7149878740310669),\n",
       " ('woven', 0.7106461524963379),\n",
       " ('complex', 0.7090448141098022),\n",
       " ('arc', 0.7006566524505615)]"
      ]
     },
     "execution_count": 17,
     "metadata": {
      "tags": []
     },
     "output_type": "execute_result"
    }
   ],
   "source": [
    "model.most_similar(\"stori\")"
   ]
  },
  {
   "cell_type": "code",
   "execution_count": 18,
   "metadata": {
    "colab": {
     "base_uri": "https://localhost:8080/",
     "height": 193
    },
    "colab_type": "code",
    "id": "huPBNB9ogvbj",
    "outputId": "a1ba9f95-e562-409d-8150-c91436a5e641"
   },
   "outputs": [
    {
     "data": {
      "text/plain": [
       "[('horribl', 0.8426973223686218),\n",
       " ('terribl', 0.8389612436294556),\n",
       " ('aw', 0.8323017954826355),\n",
       " ('wors', 0.8209856748580933),\n",
       " ('suck', 0.8198513984680176),\n",
       " ('lousi', 0.8044291734695435),\n",
       " ('crappi', 0.7956873178482056),\n",
       " ('atroci', 0.7789114117622375),\n",
       " ('lame', 0.774627149105072),\n",
       " ('ok', 0.766001284122467)]"
      ]
     },
     "execution_count": 18,
     "metadata": {
      "tags": []
     },
     "output_type": "execute_result"
    }
   ],
   "source": [
    "model.most_similar(\"bad\")"
   ]
  },
  {
   "cell_type": "code",
   "execution_count": 19,
   "metadata": {
    "colab": {
     "base_uri": "https://localhost:8080/",
     "height": 34
    },
    "colab_type": "code",
    "id": "gx4pp2ZNdZEJ",
    "outputId": "40e8092b-9847-4072-cbb7-c2aebdc3b435"
   },
   "outputs": [
    {
     "data": {
      "text/plain": [
       "(26790, 300)"
      ]
     },
     "execution_count": 19,
     "metadata": {
      "tags": []
     },
     "output_type": "execute_result"
    }
   ],
   "source": [
    "model.wv.syn0.shape"
   ]
  },
  {
   "cell_type": "markdown",
   "metadata": {
    "colab_type": "text",
    "id": "jIMmtVX9WHB2"
   },
   "source": [
    "## <h2> <center>Bag of Centroids</center></h2>"
   ]
  },
  {
   "cell_type": "code",
   "execution_count": 20,
   "metadata": {
    "colab": {
     "base_uri": "https://localhost:8080/",
     "height": 1000
    },
    "colab_type": "code",
    "id": "oTuXyfZ-dZEQ",
    "outputId": "37dad406-fdf2-43f2-bb5a-424a57fe0537"
   },
   "outputs": [
    {
     "name": "stdout",
     "output_type": "stream",
     "text": [
      "Initialization complete\n",
      "start iteration\n",
      "done sorting\n",
      "end inner loop\n",
      "Iteration 0, inertia 2397.1858\n",
      "start iteration\n",
      "done sorting\n",
      "end inner loop\n",
      "Iteration 1, inertia 2328.259\n",
      "start iteration\n",
      "done sorting\n",
      "end inner loop\n",
      "Iteration 2, inertia 2307.9102\n",
      "start iteration\n",
      "done sorting\n",
      "end inner loop\n",
      "Iteration 3, inertia 2298.8904\n",
      "start iteration\n",
      "done sorting\n",
      "end inner loop\n",
      "Iteration 4, inertia 2294.0745\n",
      "start iteration\n",
      "done sorting\n",
      "end inner loop\n",
      "Iteration 5, inertia 2291.3877\n",
      "start iteration\n",
      "done sorting\n",
      "end inner loop\n",
      "Iteration 6, inertia 2289.72\n",
      "start iteration\n",
      "done sorting\n",
      "end inner loop\n",
      "Iteration 7, inertia 2288.8457\n",
      "start iteration\n",
      "done sorting\n",
      "end inner loop\n",
      "Iteration 8, inertia 2288.4058\n",
      "start iteration\n",
      "done sorting\n",
      "end inner loop\n",
      "Iteration 9, inertia 2288.03\n",
      "start iteration\n",
      "done sorting\n",
      "end inner loop\n",
      "Iteration 10, inertia 2287.8965\n",
      "start iteration\n",
      "done sorting\n",
      "end inner loop\n",
      "Iteration 11, inertia 2287.776\n",
      "start iteration\n",
      "done sorting\n",
      "end inner loop\n",
      "Iteration 12, inertia 2287.66\n",
      "start iteration\n",
      "done sorting\n",
      "end inner loop\n",
      "Iteration 13, inertia 2287.6265\n",
      "start iteration\n",
      "done sorting\n",
      "end inner loop\n",
      "Iteration 14, inertia 2287.6118\n",
      "start iteration\n",
      "done sorting\n",
      "end inner loop\n",
      "Iteration 15, inertia 2287.5754\n",
      "start iteration\n",
      "done sorting\n",
      "end inner loop\n",
      "Iteration 16, inertia 2287.5176\n",
      "start iteration\n",
      "done sorting\n",
      "end inner loop\n",
      "Iteration 17, inertia 2287.5044\n",
      "start iteration\n",
      "done sorting\n",
      "end inner loop\n",
      "Iteration 18, inertia 2287.499\n",
      "start iteration\n",
      "done sorting\n",
      "end inner loop\n",
      "Iteration 19, inertia 2287.49\n",
      "start iteration\n",
      "done sorting\n",
      "end inner loop\n",
      "Iteration 20, inertia 2287.4797\n",
      "start iteration\n",
      "done sorting\n",
      "end inner loop\n",
      "Iteration 21, inertia 2287.4797\n",
      "center shift 0.000000e+00 within tolerance 1.657196e-07\n",
      "Initialization complete\n",
      "start iteration\n",
      "done sorting\n",
      "end inner loop\n",
      "Iteration 0, inertia 2396.7134\n",
      "start iteration\n",
      "done sorting\n",
      "end inner loop\n",
      "Iteration 1, inertia 2326.384\n",
      "start iteration\n",
      "done sorting\n",
      "end inner loop\n",
      "Iteration 2, inertia 2306.1724\n",
      "start iteration\n",
      "done sorting\n",
      "end inner loop\n",
      "Iteration 3, inertia 2296.9316\n",
      "start iteration\n",
      "done sorting\n",
      "end inner loop\n",
      "Iteration 4, inertia 2291.9656\n",
      "start iteration\n",
      "done sorting\n",
      "end inner loop\n",
      "Iteration 5, inertia 2289.0334\n",
      "start iteration\n",
      "done sorting\n",
      "end inner loop\n",
      "Iteration 6, inertia 2287.2893\n",
      "start iteration\n",
      "done sorting\n",
      "end inner loop\n",
      "Iteration 7, inertia 2286.179\n",
      "start iteration\n",
      "done sorting\n",
      "end inner loop\n",
      "Iteration 8, inertia 2285.5596\n",
      "start iteration\n",
      "done sorting\n",
      "end inner loop\n",
      "Iteration 9, inertia 2285.2693\n",
      "start iteration\n",
      "done sorting\n",
      "end inner loop\n",
      "Iteration 10, inertia 2285.0486\n",
      "start iteration\n",
      "done sorting\n",
      "end inner loop\n",
      "Iteration 11, inertia 2284.9377\n",
      "start iteration\n",
      "done sorting\n",
      "end inner loop\n",
      "Iteration 12, inertia 2284.9036\n",
      "start iteration\n",
      "done sorting\n",
      "end inner loop\n",
      "Iteration 13, inertia 2284.8552\n",
      "start iteration\n",
      "done sorting\n",
      "end inner loop\n",
      "Iteration 14, inertia 2284.7957\n",
      "start iteration\n",
      "done sorting\n",
      "end inner loop\n",
      "Iteration 15, inertia 2284.7437\n",
      "start iteration\n",
      "done sorting\n",
      "end inner loop\n",
      "Iteration 16, inertia 2284.7126\n",
      "start iteration\n",
      "done sorting\n",
      "end inner loop\n",
      "Iteration 17, inertia 2284.6938\n",
      "start iteration\n",
      "done sorting\n",
      "end inner loop\n",
      "Iteration 18, inertia 2284.6746\n",
      "start iteration\n",
      "done sorting\n",
      "end inner loop\n",
      "Iteration 19, inertia 2284.6687\n",
      "start iteration\n",
      "done sorting\n",
      "end inner loop\n",
      "Iteration 20, inertia 2284.6687\n",
      "center shift 0.000000e+00 within tolerance 1.657196e-07\n",
      "Initialization complete\n",
      "start iteration\n",
      "done sorting\n",
      "end inner loop\n",
      "Iteration 0, inertia 2394.5813\n",
      "start iteration\n",
      "done sorting\n",
      "end inner loop\n",
      "Iteration 1, inertia 2322.4238\n",
      "start iteration\n",
      "done sorting\n",
      "end inner loop\n",
      "Iteration 2, inertia 2301.6824\n",
      "start iteration\n",
      "done sorting\n",
      "end inner loop\n",
      "Iteration 3, inertia 2292.8577\n",
      "start iteration\n",
      "done sorting\n",
      "end inner loop\n",
      "Iteration 4, inertia 2288.5977\n",
      "start iteration\n",
      "done sorting\n",
      "end inner loop\n",
      "Iteration 5, inertia 2286.288\n",
      "start iteration\n",
      "done sorting\n",
      "end inner loop\n",
      "Iteration 6, inertia 2285.198\n",
      "start iteration\n",
      "done sorting\n",
      "end inner loop\n",
      "Iteration 7, inertia 2284.4326\n",
      "start iteration\n",
      "done sorting\n",
      "end inner loop\n",
      "Iteration 8, inertia 2283.9854\n",
      "start iteration\n",
      "done sorting\n",
      "end inner loop\n",
      "Iteration 9, inertia 2283.6912\n",
      "start iteration\n",
      "done sorting\n",
      "end inner loop\n",
      "Iteration 10, inertia 2283.5203\n",
      "start iteration\n",
      "done sorting\n",
      "end inner loop\n",
      "Iteration 11, inertia 2283.357\n",
      "start iteration\n",
      "done sorting\n",
      "end inner loop\n",
      "Iteration 12, inertia 2283.276\n",
      "start iteration\n",
      "done sorting\n",
      "end inner loop\n",
      "Iteration 13, inertia 2283.1926\n",
      "start iteration\n",
      "done sorting\n",
      "end inner loop\n",
      "Iteration 14, inertia 2283.1372\n",
      "start iteration\n",
      "done sorting\n",
      "end inner loop\n",
      "Iteration 15, inertia 2283.0857\n",
      "start iteration\n",
      "done sorting\n",
      "end inner loop\n",
      "Iteration 16, inertia 2283.0254\n",
      "start iteration\n",
      "done sorting\n",
      "end inner loop\n",
      "Iteration 17, inertia 2282.9785\n",
      "start iteration\n",
      "done sorting\n",
      "end inner loop\n",
      "Iteration 18, inertia 2282.9565\n",
      "start iteration\n",
      "done sorting\n",
      "end inner loop\n",
      "Iteration 19, inertia 2282.9397\n",
      "start iteration\n",
      "done sorting\n",
      "end inner loop\n",
      "Iteration 20, inertia 2282.9397\n",
      "center shift 0.000000e+00 within tolerance 1.657196e-07\n",
      "Initialization complete\n",
      "start iteration\n",
      "done sorting\n",
      "end inner loop\n",
      "Iteration 0, inertia 2392.4604\n",
      "start iteration\n",
      "done sorting\n",
      "end inner loop\n",
      "Iteration 1, inertia 2323.7288\n",
      "start iteration\n",
      "done sorting\n",
      "end inner loop\n",
      "Iteration 2, inertia 2302.6184\n",
      "start iteration\n",
      "done sorting\n",
      "end inner loop\n",
      "Iteration 3, inertia 2293.4658\n",
      "start iteration\n",
      "done sorting\n",
      "end inner loop\n",
      "Iteration 4, inertia 2288.4902\n",
      "start iteration\n",
      "done sorting\n",
      "end inner loop\n",
      "Iteration 5, inertia 2285.953\n",
      "start iteration\n",
      "done sorting\n",
      "end inner loop\n",
      "Iteration 6, inertia 2284.6604\n",
      "start iteration\n",
      "done sorting\n",
      "end inner loop\n",
      "Iteration 7, inertia 2283.848\n",
      "start iteration\n",
      "done sorting\n",
      "end inner loop\n",
      "Iteration 8, inertia 2283.391\n",
      "start iteration\n",
      "done sorting\n",
      "end inner loop\n",
      "Iteration 9, inertia 2282.9177\n",
      "start iteration\n",
      "done sorting\n",
      "end inner loop\n",
      "Iteration 10, inertia 2282.6921\n",
      "start iteration\n",
      "done sorting\n",
      "end inner loop\n",
      "Iteration 11, inertia 2282.5173\n",
      "start iteration\n",
      "done sorting\n",
      "end inner loop\n",
      "Iteration 12, inertia 2282.3994\n",
      "start iteration\n",
      "done sorting\n",
      "end inner loop\n",
      "Iteration 13, inertia 2282.2908\n",
      "start iteration\n",
      "done sorting\n",
      "end inner loop\n",
      "Iteration 14, inertia 2282.2551\n",
      "start iteration\n",
      "done sorting\n",
      "end inner loop\n",
      "Iteration 15, inertia 2282.2415\n",
      "start iteration\n",
      "done sorting\n",
      "end inner loop\n",
      "Iteration 16, inertia 2282.2415\n",
      "center shift 0.000000e+00 within tolerance 1.657196e-07\n",
      "Initialization complete\n",
      "start iteration\n",
      "done sorting\n",
      "end inner loop\n",
      "Iteration 0, inertia 2392.174\n",
      "start iteration\n",
      "done sorting\n",
      "end inner loop\n",
      "Iteration 1, inertia 2322.6587\n",
      "start iteration\n",
      "done sorting\n",
      "end inner loop\n",
      "Iteration 2, inertia 2301.8965\n",
      "start iteration\n",
      "done sorting\n",
      "end inner loop\n",
      "Iteration 3, inertia 2293.9722\n",
      "start iteration\n",
      "done sorting\n",
      "end inner loop\n",
      "Iteration 4, inertia 2290.0637\n",
      "start iteration\n",
      "done sorting\n",
      "end inner loop\n",
      "Iteration 5, inertia 2287.6072\n",
      "start iteration\n",
      "done sorting\n",
      "end inner loop\n",
      "Iteration 6, inertia 2286.3245\n",
      "start iteration\n",
      "done sorting\n",
      "end inner loop\n",
      "Iteration 7, inertia 2285.6316\n",
      "start iteration\n",
      "done sorting\n",
      "end inner loop\n",
      "Iteration 8, inertia 2285.187\n",
      "start iteration\n",
      "done sorting\n",
      "end inner loop\n",
      "Iteration 9, inertia 2284.8647\n",
      "start iteration\n",
      "done sorting\n",
      "end inner loop\n",
      "Iteration 10, inertia 2284.6384\n",
      "start iteration\n",
      "done sorting\n",
      "end inner loop\n",
      "Iteration 11, inertia 2284.4617\n",
      "start iteration\n",
      "done sorting\n",
      "end inner loop\n",
      "Iteration 12, inertia 2284.422\n",
      "start iteration\n",
      "done sorting\n",
      "end inner loop\n",
      "Iteration 13, inertia 2284.422\n",
      "center shift 0.000000e+00 within tolerance 1.657196e-07\n"
     ]
    }
   ],
   "source": [
    "# Set \"k\" (num_clusters) to be 1/5th of the vocabulary size, or an\n",
    "# average of 5 words per cluster\n",
    "word_vectors = model.wv.syn0 \n",
    "num_clusters = int(word_vectors.shape[0] / 5)\n",
    "\n",
    "# Initalize a k-means object and use it to extract centroids\n",
    "kmeans_clustering = KMeans(n_clusters = num_clusters,\n",
    "                           n_init = 5,\n",
    "                           verbose = 2)\n",
    "idx = kmeans_clustering.fit_predict(word_vectors)"
   ]
  },
  {
   "cell_type": "code",
   "execution_count": 0,
   "metadata": {
    "colab": {},
    "colab_type": "code",
    "id": "EMuj_T6bdZEV"
   },
   "outputs": [],
   "source": [
    "# Create a Word / Index dictionary, mapping each vocabulary word to a cluster number                                                                                            \n",
    "word_centroid_map = dict(zip(model.wv.index2word, idx))"
   ]
  },
  {
   "cell_type": "code",
   "execution_count": 22,
   "metadata": {
    "colab": {
     "base_uri": "https://localhost:8080/",
     "height": 52
    },
    "colab_type": "code",
    "id": "0StSE_rPiJq3",
    "outputId": "8bd75ac1-16c5-4358-f52f-99ae2e3c02ff"
   },
   "outputs": [
    {
     "name": "stdout",
     "output_type": "stream",
     "text": [
      "Train dataset shape: (37500,), \n",
      "Test dataset shape: (12500,)\n"
     ]
    }
   ],
   "source": [
    "X = movies['review']\n",
    "y = movies['sentiment']\n",
    "# (np.array(movies['sentiment']))\n",
    "\n",
    "X_train, X_test, y_train, y_test = train_test_split(X, y, test_size=0.25, random_state=7)\n",
    "print(f\"Train dataset shape: {X_train.shape}, \\nTest dataset shape: {X_test.shape}\")"
   ]
  },
  {
   "cell_type": "code",
   "execution_count": 23,
   "metadata": {
    "colab": {
     "base_uri": "https://localhost:8080/",
     "height": 52
    },
    "colab_type": "code",
    "id": "5rWC7pjVdZEa",
    "outputId": "35217336-51cb-4d2c-d0f8-1c7ed75b9b50"
   },
   "outputs": [
    {
     "name": "stdout",
     "output_type": "stream",
     "text": [
      "Training reviews are clean\n",
      "Testing reviews are clean\n"
     ]
    }
   ],
   "source": [
    "# Clean the training and testing reviews.\n",
    "clean_train_reviews = []\n",
    "for review in X_train:\n",
    "    clean_train_reviews.append(review_to_wordlist(review))\n",
    "    \n",
    "print(\"Training reviews are clean\")  \n",
    "\n",
    "clean_test_reviews = []\n",
    "for review in X_test:\n",
    "    clean_test_reviews.append(review_to_wordlist(review))\n",
    "    \n",
    "print(\"Testing reviews are clean\") "
   ]
  },
  {
   "cell_type": "code",
   "execution_count": 0,
   "metadata": {
    "colab": {},
    "colab_type": "code",
    "id": "Ayis8lBhdZEh"
   },
   "outputs": [],
   "source": [
    "def create_bag_of_centroids(wordlist, word_centroid_map):    \n",
    "    # The number of clusters is equal to the highest cluster index\n",
    "    # in the word / centroid map\n",
    "    num_centroids = max(word_centroid_map.values()) + 1\n",
    "    \n",
    "    # Pre-allocate the bag of centroids vector (for speed)\n",
    "    bag_of_centroids = np.zeros(num_centroids, dtype=\"float32\")\n",
    "    \n",
    "    # Loop over the words in the review. If the word is in the vocabulary,\n",
    "    # find which cluster it belongs to, and increment that cluster count \n",
    "    for word in wordlist:\n",
    "        if word in word_centroid_map:\n",
    "            index = word_centroid_map[word]\n",
    "            bag_of_centroids[index] += 1\n",
    "    \n",
    "    return bag_of_centroids"
   ]
  },
  {
   "cell_type": "code",
   "execution_count": 25,
   "metadata": {
    "colab": {
     "base_uri": "https://localhost:8080/",
     "height": 34
    },
    "colab_type": "code",
    "id": "Z-bTEBHDdZEo",
    "outputId": "df18ed21-961f-44e1-d898-d86d8435076a"
   },
   "outputs": [
    {
     "name": "stdout",
     "output_type": "stream",
     "text": [
      "Training reviews are complete.\n"
     ]
    }
   ],
   "source": [
    "# Pre-allocate an array for the training set bags of centroids (for speed)\n",
    "train_centroids = np.zeros((X_train.size, num_clusters), dtype=\"float32\")\n",
    "\n",
    "# Transform the training set reviews into bags of centroids\n",
    "counter = 0\n",
    "for review in clean_train_reviews:\n",
    "    train_centroids[counter] = create_bag_of_centroids(review, word_centroid_map)\n",
    "    counter += 1\n",
    "\n",
    "print(\"Training reviews are complete.\")    "
   ]
  },
  {
   "cell_type": "code",
   "execution_count": 26,
   "metadata": {
    "colab": {
     "base_uri": "https://localhost:8080/",
     "height": 34
    },
    "colab_type": "code",
    "id": "cbK0bD0dp94z",
    "outputId": "630bb57e-afb3-4d61-a8c1-9a35baf61833"
   },
   "outputs": [
    {
     "name": "stdout",
     "output_type": "stream",
     "text": [
      "Testing reviews are complete.\n"
     ]
    }
   ],
   "source": [
    "# Repeat for test reviews \n",
    "test_centroids = np.zeros((X_test.size, num_clusters), dtype=\"float32\")\n",
    "\n",
    "counter = 0\n",
    "for review in clean_test_reviews:\n",
    "    test_centroids[counter] = create_bag_of_centroids(review, word_centroid_map )\n",
    "    counter += 1\n",
    "    \n",
    "print(\"Testing reviews are complete.\")  "
   ]
  },
  {
   "cell_type": "code",
   "execution_count": 27,
   "metadata": {
    "colab": {
     "base_uri": "https://localhost:8080/",
     "height": 52
    },
    "colab_type": "code",
    "id": "_h9wj9jaqOHW",
    "outputId": "93cd856a-1382-41c6-f781-47138da74af3"
   },
   "outputs": [
    {
     "name": "stdout",
     "output_type": "stream",
     "text": [
      "Train centroids shape: (37500, 5358), \n",
      "Test centroids shape: (12500, 5358)\n"
     ]
    }
   ],
   "source": [
    "print(f\"Train centroids shape: {train_centroids.shape}, \\nTest centroids shape: {test_centroids.shape}\")"
   ]
  },
  {
   "cell_type": "markdown",
   "metadata": {
    "colab_type": "text",
    "id": "jpxd2orLV-dY"
   },
   "source": [
    "## <h2> <center>Modeling</center></h2>"
   ]
  },
  {
   "cell_type": "code",
   "execution_count": 0,
   "metadata": {
    "colab": {},
    "colab_type": "code",
    "id": "Boo1ny1dkf1e"
   },
   "outputs": [],
   "source": [
    "def plot_confusion_matrix(y_true, y_pred, ax, class_names  = ['Positive', 'Negative'], vmax=None,\n",
    "                           normalized=True, title='Confusion matrix'):\n",
    "    \"\"\"\n",
    "    Helper fuction to generate a clean Confusion Matrix using seaborn library.\n",
    "    y_true: True labels, y_pred: Model Predictions, class_names: Override if needed\n",
    "    normalized: True, gives the proportions instead of absolute numbers\n",
    "    \"\"\"\n",
    "    matrix = confusion_matrix(y_true,y_pred)\n",
    "    if normalized:\n",
    "        matrix = matrix.astype('float') / matrix.sum(axis=1)[:, np.newaxis]\n",
    "    annot_kws = {'fontsize':25, \n",
    "                'fontstyle': 'italic'}\n",
    "    sns.heatmap(matrix, vmax=vmax, annot=True,  annot_kws = annot_kws,\n",
    "                square=True, ax=ax, cbar=False,\n",
    "                cmap=sns.diverging_palette(20, 250, as_cmap=True), \n",
    "                linecolor='black', linewidths=0.5,\n",
    "                xticklabels=class_names)\n",
    "    ax.set_title(title, y=1.20, fontsize=16)\n",
    "    ax.set_ylabel('True labels', fontsize=12)\n",
    "    ax.set_xlabel('Predicted labels', y=1.10, fontsize=12)\n",
    "    ax.set_yticklabels(class_names, rotation=0)"
   ]
  },
  {
   "cell_type": "code",
   "execution_count": 29,
   "metadata": {
    "colab": {
     "base_uri": "https://localhost:8080/",
     "height": 105
    },
    "colab_type": "code",
    "id": "87LQi0YhdZFT",
    "outputId": "389d3e53-a110-42bb-90d7-9e7a6e0303fa"
   },
   "outputs": [
    {
     "data": {
      "text/plain": [
       "LogisticRegression(C=0.01, class_weight=None, dual=False, fit_intercept=True,\n",
       "                   intercept_scaling=1, l1_ratio=None, max_iter=6,\n",
       "                   multi_class='auto', n_jobs=None, penalty='l2',\n",
       "                   random_state=None, solver='lbfgs', tol=0.0001, verbose=0,\n",
       "                   warm_start=False)"
      ]
     },
     "execution_count": 29,
     "metadata": {
      "tags": []
     },
     "output_type": "execute_result"
    }
   ],
   "source": [
    "lr_model = lr(C = 0.01,\n",
    "              max_iter = 6,\n",
    "              fit_intercept = True)\n",
    "\n",
    "lr_model.fit(train_centroids, y_train)"
   ]
  },
  {
   "cell_type": "code",
   "execution_count": 30,
   "metadata": {
    "colab": {
     "base_uri": "https://localhost:8080/",
     "height": 34
    },
    "colab_type": "code",
    "id": "5a81HqPMkHfi",
    "outputId": "85d929b5-4f8d-4f1c-9cf9-b91288b83e82"
   },
   "outputs": [
    {
     "name": "stdout",
     "output_type": "stream",
     "text": [
      "Test set Accuracy:  85.736\n"
     ]
    }
   ],
   "source": [
    "lr_pred = lr_model.predict(test_centroids)\n",
    "print(\"Test set Accuracy: \", accuracy_score(lr_pred, y_test)*100)"
   ]
  },
  {
   "cell_type": "code",
   "execution_count": 31,
   "metadata": {
    "colab": {
     "base_uri": "https://localhost:8080/",
     "height": 318
    },
    "colab_type": "code",
    "id": "zED3_fAekHcG",
    "outputId": "7958aea5-5521-4545-f757-380ba8dc9b31"
   },
   "outputs": [
    {
     "name": "stderr",
     "output_type": "stream",
     "text": [
      "2020-06-15 09:37:12,124 : INFO : NumExpr defaulting to 2 threads.\n"
     ]
    },
    {
     "data": {
      "image/png": "[encoded data removed]",
      "text/plain": [
       "<Figure size 432x288 with 1 Axes>"
      ]
     },
     "metadata": {
      "needs_background": "light",
      "tags": []
     },
     "output_type": "display_data"
    }
   ],
   "source": [
    "fig, axis1 = plt.subplots(nrows=1, ncols=1)\n",
    "plot_confusion_matrix(y_test, lr_pred, ax=axis1,\n",
    "                       title='Confusion matrix (lr)')"
   ]
  },
  {
   "cell_type": "code",
   "execution_count": 32,
   "metadata": {
    "colab": {
     "base_uri": "https://localhost:8080/",
     "height": 87
    },
    "colab_type": "code",
    "id": "Pq7xi37SdZFZ",
    "outputId": "96a4c1d3-ccdc-4fd2-b514-08c54b6fbbca"
   },
   "outputs": [
    {
     "data": {
      "text/plain": [
       "LinearSVC(C=1.0, class_weight=None, dual=True, fit_intercept=True,\n",
       "          intercept_scaling=1, loss='squared_hinge', max_iter=1000,\n",
       "          multi_class='ovr', penalty='l2', random_state=None, tol=0.0001,\n",
       "          verbose=0)"
      ]
     },
     "execution_count": 32,
     "metadata": {
      "tags": []
     },
     "output_type": "execute_result"
    }
   ],
   "source": [
    "svc_model = svc()\n",
    "\n",
    "svc_model.fit(train_centroids, y_train)"
   ]
  },
  {
   "cell_type": "code",
   "execution_count": 33,
   "metadata": {
    "colab": {
     "base_uri": "https://localhost:8080/",
     "height": 34
    },
    "colab_type": "code",
    "id": "x7x0VhONdZFe",
    "outputId": "f404f141-eaee-4796-b816-eeb802dde923"
   },
   "outputs": [
    {
     "name": "stdout",
     "output_type": "stream",
     "text": [
      "Test set Accuracy:  85.648\n"
     ]
    }
   ],
   "source": [
    "svc_pred = svc_model.predict(test_centroids)\n",
    "print(\"Test set Accuracy: \", accuracy_score(svc_pred, y_test)*100)"
   ]
  },
  {
   "cell_type": "code",
   "execution_count": 34,
   "metadata": {
    "colab": {
     "base_uri": "https://localhost:8080/",
     "height": 300
    },
    "colab_type": "code",
    "id": "Gnk5-IQJdZFl",
    "outputId": "80ea8d5a-d232-49ff-90f7-b8b1a0197e9d"
   },
   "outputs": [
    {
     "data": {
      "image/png": "[encoded data removed]",
      "text/plain": [
       "<Figure size 432x288 with 1 Axes>"
      ]
     },
     "metadata": {
      "needs_background": "light",
      "tags": []
     },
     "output_type": "display_data"
    }
   ],
   "source": [
    "fig, axis1 = plt.subplots(nrows=1, ncols=1)\n",
    "plot_confusion_matrix(y_test, svc_pred, ax=axis1,\n",
    "                       title='Confusion matrix (svc)')"
   ]
  },
  {
   "cell_type": "code",
   "execution_count": 0,
   "metadata": {
    "colab": {},
    "colab_type": "code",
    "id": "wcfTDUG3dZFt"
   },
   "outputs": [],
   "source": []
  },
  {
   "cell_type": "code",
   "execution_count": 0,
   "metadata": {
    "colab": {},
    "colab_type": "code",
    "id": "tkGgVi_CdZF0"
   },
   "outputs": [],
   "source": []
  }
 ],
 "metadata": {
  "colab": {
   "name": "word2vec_bag_of_centroids_predictions.ipynb",
   "provenance": []
  },
  "kernelspec": {
   "display_name": "Python 3",
   "language": "python",
   "name": "python3"
  },
  "language_info": {
   "codemirror_mode": {
    "name": "ipython",
    "version": 3
   },
   "file_extension": ".py",
   "mimetype": "text/x-python",
   "name": "python",
   "nbconvert_exporter": "python",
   "pygments_lexer": "ipython3",
   "version": "3.7.7"
  }
 },
 "nbformat": 4,
 "nbformat_minor": 1
}
