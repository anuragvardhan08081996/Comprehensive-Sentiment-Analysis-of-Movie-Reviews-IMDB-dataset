{
 "cells": [
  {
   "cell_type": "markdown",
   "metadata": {
    "colab_type": "text",
    "id": "DmcNFGyW9dAB"
   },
   "source": [
    "# <h1 align = \"center\"> Keras Models</h1>"
   ]
  },
  {
   "cell_type": "markdown",
   "metadata": {
    "colab_type": "text",
    "id": "KAbdXGyT-vAN"
   },
   "source": [
    "The goal for this analysis is to predict if a review rates the movie positively or negatively. Inside this dataset, there are 25,000 labelled movies reviews for training, 50,000 unlabeled reviews for training, and 25,000 reviews for testing.\n",
    "<a href=\"https://imgur.com/FfdEBRz\"><img src=\"https://i.imgur.com/FfdEBRzm.png\" title=\"source: imgur.com\" align=\"right\"></a>\n",
    "- IMDB movie reviews dataset\n",
    "- http://ai.stanford.edu/~amaas/data/sentiment\n",
    "- https://www.kaggle.com/lakshmi25npathi/imdb-dataset-of-50k-movie-reviews\n",
    "- Contains 25000 positive and 25000 negative reviews\n",
    "- Contains at most reviews per movie\n",
    "- At least 7 stars out of 10 $\\rightarrow$ positive (label = 1)\n",
    "- At most 4 stars out of 10 $\\rightarrow$ negative (label = 0)\n",
    "\n",
    "\n",
    "This notebook uses [tf.keras](https://www.tensorflow.org/guide/keras), a high-level API to build and train models in TensorFlow\n",
    "> **Here, we use Keras Sequential API to train and test simple neural networks to classify sentiments of reviews by inputting tfidf features**"
   ]
  },
  {
   "cell_type": "markdown",
   "metadata": {
    "colab_type": "text",
    "id": "Zw2OdXqR97oQ"
   },
   "source": [
    "## <h2 align = \"center\">Dependencies</h2>"
   ]
  },
  {
   "cell_type": "code",
   "execution_count": 1,
   "metadata": {
    "colab": {
     "base_uri": "https://localhost:8080/",
     "height": 123
    },
    "colab_type": "code",
    "id": "CFDhgYmH9bmc",
    "outputId": "878c5789-a5e6-4510-ba33-6961ab1d9bd1"
   },
   "outputs": [
    {
     "name": "stderr",
     "output_type": "stream",
     "text": [
      "C:\\ProgramData\\Anaconda3\\lib\\site-packages\\tensorflow\\python\\framework\\dtypes.py:526: FutureWarning: Passing (type, 1) or '1type' as a synonym of type is deprecated; in a future version of numpy, it will be understood as (type, (1,)) / '(1,)type'.\n",
      "  _np_qint8 = np.dtype([(\"qint8\", np.int8, 1)])\n",
      "C:\\ProgramData\\Anaconda3\\lib\\site-packages\\tensorflow\\python\\framework\\dtypes.py:527: FutureWarning: Passing (type, 1) or '1type' as a synonym of type is deprecated; in a future version of numpy, it will be understood as (type, (1,)) / '(1,)type'.\n",
      "  _np_quint8 = np.dtype([(\"quint8\", np.uint8, 1)])\n",
      "C:\\ProgramData\\Anaconda3\\lib\\site-packages\\tensorflow\\python\\framework\\dtypes.py:528: FutureWarning: Passing (type, 1) or '1type' as a synonym of type is deprecated; in a future version of numpy, it will be understood as (type, (1,)) / '(1,)type'.\n",
      "  _np_qint16 = np.dtype([(\"qint16\", np.int16, 1)])\n",
      "C:\\ProgramData\\Anaconda3\\lib\\site-packages\\tensorflow\\python\\framework\\dtypes.py:529: FutureWarning: Passing (type, 1) or '1type' as a synonym of type is deprecated; in a future version of numpy, it will be understood as (type, (1,)) / '(1,)type'.\n",
      "  _np_quint16 = np.dtype([(\"quint16\", np.uint16, 1)])\n",
      "C:\\ProgramData\\Anaconda3\\lib\\site-packages\\tensorflow\\python\\framework\\dtypes.py:530: FutureWarning: Passing (type, 1) or '1type' as a synonym of type is deprecated; in a future version of numpy, it will be understood as (type, (1,)) / '(1,)type'.\n",
      "  _np_qint32 = np.dtype([(\"qint32\", np.int32, 1)])\n",
      "C:\\ProgramData\\Anaconda3\\lib\\site-packages\\tensorflow\\python\\framework\\dtypes.py:535: FutureWarning: Passing (type, 1) or '1type' as a synonym of type is deprecated; in a future version of numpy, it will be understood as (type, (1,)) / '(1,)type'.\n",
      "  np_resource = np.dtype([(\"resource\", np.ubyte, 1)])\n"
     ]
    },
    {
     "name": "stdout",
     "output_type": "stream",
     "text": [
      "Version:  1.13.1\n",
      "Eager mode:  False\n",
      "GPU is NOT AVAILABLE\n"
     ]
    }
   ],
   "source": [
    "import numpy as np\n",
    "import pandas as pd\n",
    "import matplotlib.pyplot as plt\n",
    "%matplotlib inline\n",
    "import seaborn as sns\n",
    "from sklearn.preprocessing import LabelEncoder\n",
    "from sklearn.metrics import accuracy_score, confusion_matrix\n",
    "from sklearn.model_selection import train_test_split\n",
    "from sklearn.feature_extraction.text import TfidfVectorizer\n",
    "from sklearn.feature_selection import SelectKBest, f_classif\n",
    "\n",
    "import tensorflow as tf\n",
    "from tensorflow.keras.models import Sequential\n",
    "from tensorflow.python.keras.callbacks import LambdaCallback, EarlyStopping\n",
    "from tensorflow.keras.layers import *\n",
    "from tensorflow.keras.preprocessing import text\n",
    "from tensorflow.keras.preprocessing.sequence import pad_sequences\n",
    "\n",
    "import warnings\n",
    "warnings.filterwarnings('ignore')\n",
    "\n",
    "print(\"Version: \", tf.__version__)\n",
    "print(\"Eager mode: \", tf.executing_eagerly())\n",
    "print(\"GPU is\", \"available\" if tf.test.is_gpu_available() else \"NOT AVAILABLE\")"
   ]
  },
  {
   "cell_type": "code",
   "execution_count": 2,
   "metadata": {
    "colab": {
     "base_uri": "https://localhost:8080/",
     "height": 34
    },
    "colab_type": "code",
    "id": "7rxVlB-SMbNd",
    "outputId": "63fd2786-1a78-4dda-b1b9-c785be5f8b0e"
   },
   "outputs": [
    {
     "data": {
      "text/plain": [
       "\"\\ndevice_name = tf.test.gpu_device_name()\\nif device_name != '/device:GPU:0':\\n  raise SystemError('GPU device not found')\\nprint('Found GPU at: {}'.format(device_name))\\n\""
      ]
     },
     "execution_count": 2,
     "metadata": {},
     "output_type": "execute_result"
    }
   ],
   "source": [
    "'''\n",
    "device_name = tf.test.gpu_device_name()\n",
    "if device_name != '/device:GPU:0':\n",
    "  raise SystemError('GPU device not found')\n",
    "print('Found GPU at: {}'.format(device_name))\n",
    "'''"
   ]
  },
  {
   "cell_type": "code",
   "execution_count": 3,
   "metadata": {
    "colab": {
     "base_uri": "https://localhost:8080/",
     "height": 34
    },
    "colab_type": "code",
    "id": "bfcIlFC4F41g",
    "outputId": "59d36e18-9e6d-470e-b80f-048a92ce2257"
   },
   "outputs": [],
   "source": [
    "# for importing data from colab\n",
    "# from google.colab import drive \n",
    "# drive.mount('/content/drive')\n",
    "\n",
    "# movies = pd.read_csv('/content/drive/My Drive/Colab Notebooks/imdb_data.csv')\n",
    "# movies.sample(7)"
   ]
  },
  {
   "cell_type": "code",
   "execution_count": 4,
   "metadata": {
    "colab": {
     "base_uri": "https://localhost:8080/",
     "height": 263
    },
    "colab_type": "code",
    "id": "dYAkdt8TF4nF",
    "outputId": "6d4ec9d4-b5e6-4635-caf2-2ad8b2e864c3"
   },
   "outputs": [
    {
     "data": {
      "text/html": [
       "<div>\n",
       "<style scoped>\n",
       "    .dataframe tbody tr th:only-of-type {\n",
       "        vertical-align: middle;\n",
       "    }\n",
       "\n",
       "    .dataframe tbody tr th {\n",
       "        vertical-align: top;\n",
       "    }\n",
       "\n",
       "    .dataframe thead th {\n",
       "        text-align: right;\n",
       "    }\n",
       "</style>\n",
       "<table border=\"1\" class=\"dataframe\">\n",
       "  <thead>\n",
       "    <tr style=\"text-align: right;\">\n",
       "      <th></th>\n",
       "      <th>review</th>\n",
       "      <th>sentiment</th>\n",
       "    </tr>\n",
       "  </thead>\n",
       "  <tbody>\n",
       "    <tr>\n",
       "      <th>36327</th>\n",
       "      <td>I watched this film not knowing anything about...</td>\n",
       "      <td>positive</td>\n",
       "    </tr>\n",
       "    <tr>\n",
       "      <th>40150</th>\n",
       "      <td>Unfortunately for myself - I stumbled onto thi...</td>\n",
       "      <td>positive</td>\n",
       "    </tr>\n",
       "    <tr>\n",
       "      <th>13388</th>\n",
       "      <td>I really am shocked to see the number of revie...</td>\n",
       "      <td>positive</td>\n",
       "    </tr>\n",
       "    <tr>\n",
       "      <th>28839</th>\n",
       "      <td>Pretty poor Firestarter clone that seems more ...</td>\n",
       "      <td>negative</td>\n",
       "    </tr>\n",
       "    <tr>\n",
       "      <th>40919</th>\n",
       "      <td>i searched video store everywhere to find this...</td>\n",
       "      <td>negative</td>\n",
       "    </tr>\n",
       "    <tr>\n",
       "      <th>32992</th>\n",
       "      <td>This show sucks. it was put on fridays on roll...</td>\n",
       "      <td>negative</td>\n",
       "    </tr>\n",
       "    <tr>\n",
       "      <th>9195</th>\n",
       "      <td>The world is made up two different types of mo...</td>\n",
       "      <td>positive</td>\n",
       "    </tr>\n",
       "  </tbody>\n",
       "</table>\n",
       "</div>"
      ],
      "text/plain": [
       "                                                  review sentiment\n",
       "36327  I watched this film not knowing anything about...  positive\n",
       "40150  Unfortunately for myself - I stumbled onto thi...  positive\n",
       "13388  I really am shocked to see the number of revie...  positive\n",
       "28839  Pretty poor Firestarter clone that seems more ...  negative\n",
       "40919  i searched video store everywhere to find this...  negative\n",
       "32992  This show sucks. it was put on fridays on roll...  negative\n",
       "9195   The world is made up two different types of mo...  positive"
      ]
     },
     "execution_count": 4,
     "metadata": {},
     "output_type": "execute_result"
    }
   ],
   "source": [
    "# read from local\n",
    "movies = pd.read_csv('data/imdb_data.csv')\n",
    "movies.sample(7)"
   ]
  },
  {
   "cell_type": "markdown",
   "metadata": {
    "colab_type": "text",
    "id": "IstLZZ5OG3U8"
   },
   "source": [
    "> **Binarize the sentiment column**"
   ]
  },
  {
   "cell_type": "code",
   "execution_count": 5,
   "metadata": {
    "colab": {
     "base_uri": "https://localhost:8080/",
     "height": 263
    },
    "colab_type": "code",
    "id": "fsRxNWaDG2sJ",
    "outputId": "8829dc08-c350-441c-a052-7838acd38e18"
   },
   "outputs": [
    {
     "data": {
      "text/html": [
       "<div>\n",
       "<style scoped>\n",
       "    .dataframe tbody tr th:only-of-type {\n",
       "        vertical-align: middle;\n",
       "    }\n",
       "\n",
       "    .dataframe tbody tr th {\n",
       "        vertical-align: top;\n",
       "    }\n",
       "\n",
       "    .dataframe thead th {\n",
       "        text-align: right;\n",
       "    }\n",
       "</style>\n",
       "<table border=\"1\" class=\"dataframe\">\n",
       "  <thead>\n",
       "    <tr style=\"text-align: right;\">\n",
       "      <th></th>\n",
       "      <th>review</th>\n",
       "      <th>sentiment</th>\n",
       "    </tr>\n",
       "  </thead>\n",
       "  <tbody>\n",
       "    <tr>\n",
       "      <th>38016</th>\n",
       "      <td>The Cure uses voice over to create an intense ...</td>\n",
       "      <td>1</td>\n",
       "    </tr>\n",
       "    <tr>\n",
       "      <th>21165</th>\n",
       "      <td>I know a lot of people like this show and i ap...</td>\n",
       "      <td>0</td>\n",
       "    </tr>\n",
       "    <tr>\n",
       "      <th>26137</th>\n",
       "      <td>Me being of Irish origins, loved this movie, N...</td>\n",
       "      <td>1</td>\n",
       "    </tr>\n",
       "    <tr>\n",
       "      <th>21556</th>\n",
       "      <td>You know I only watched 15 minutes of this fil...</td>\n",
       "      <td>0</td>\n",
       "    </tr>\n",
       "    <tr>\n",
       "      <th>29370</th>\n",
       "      <td>Direction must be the problem here. I recently...</td>\n",
       "      <td>0</td>\n",
       "    </tr>\n",
       "    <tr>\n",
       "      <th>43634</th>\n",
       "      <td>This is one of the best TV movies I have ever ...</td>\n",
       "      <td>1</td>\n",
       "    </tr>\n",
       "    <tr>\n",
       "      <th>8939</th>\n",
       "      <td>'Wicked Little Things' really separates itself...</td>\n",
       "      <td>1</td>\n",
       "    </tr>\n",
       "  </tbody>\n",
       "</table>\n",
       "</div>"
      ],
      "text/plain": [
       "                                                  review  sentiment\n",
       "38016  The Cure uses voice over to create an intense ...          1\n",
       "21165  I know a lot of people like this show and i ap...          0\n",
       "26137  Me being of Irish origins, loved this movie, N...          1\n",
       "21556  You know I only watched 15 minutes of this fil...          0\n",
       "29370  Direction must be the problem here. I recently...          0\n",
       "43634  This is one of the best TV movies I have ever ...          1\n",
       "8939   'Wicked Little Things' really separates itself...          1"
      ]
     },
     "execution_count": 5,
     "metadata": {},
     "output_type": "execute_result"
    }
   ],
   "source": [
    "le = LabelEncoder()\n",
    "movies['sentiment'] = le.fit_transform(movies['sentiment'])\n",
    "movies.sample(7)"
   ]
  },
  {
   "cell_type": "markdown",
   "metadata": {
    "colab_type": "text",
    "id": "BSby0Ik2IGxT"
   },
   "source": [
    " > **Vectorize the reviews text**"
   ]
  },
  {
   "cell_type": "code",
   "execution_count": 6,
   "metadata": {
    "colab": {
     "base_uri": "https://localhost:8080/",
     "height": 34
    },
    "colab_type": "code",
    "id": "_zYXdJ8N90wx",
    "outputId": "1401d0f9-cf0a-4dd8-c490-f6dd3ef9874e"
   },
   "outputs": [
    {
     "data": {
      "text/plain": [
       "(50000, 20000)"
      ]
     },
     "execution_count": 6,
     "metadata": {},
     "output_type": "execute_result"
    }
   ],
   "source": [
    "NGRAM_RANGE = (1, 2)\n",
    "TOP_K = 20000\n",
    "TOKEN_MODE = 'word'\n",
    "MIN_DOC_FREQ = 2\n",
    "\n",
    "def ngram_vectorize(texts, labels):\n",
    "    kwargs = {\n",
    "        'ngram_range' : NGRAM_RANGE,\n",
    "        'dtype' : 'int32',\n",
    "        'strip_accents' : 'unicode',\n",
    "        'decode_error' : 'replace',\n",
    "        'analyzer' : TOKEN_MODE,\n",
    "        'min_df' : MIN_DOC_FREQ\n",
    "    }\n",
    "\n",
    "    transformed_texts = TfidfVectorizer(**kwargs).fit_transform(texts)\n",
    "    \n",
    "    # Select best k features, with feature importance measured by f_classif\n",
    "    # Set k as 20000 or (if number of ngrams is less) number of ngrams   \n",
    "    selector = SelectKBest(f_classif, k=min(TOP_K, transformed_texts.shape[1]))\n",
    "    selector.fit(transformed_texts, labels)\n",
    "    transformed_texts = selector.transform(transformed_texts).astype('float32')\n",
    "    return transformed_texts\n",
    "\n",
    "vect_reviews = ngram_vectorize(movies['review'], movies['sentiment'])\n",
    "vect_reviews.shape"
   ]
  },
  {
   "cell_type": "markdown",
   "metadata": {
    "colab_type": "text",
    "id": "zpRD5_kdIMW3"
   },
   "source": [
    "> **Split the data**"
   ]
  },
  {
   "cell_type": "code",
   "execution_count": 7,
   "metadata": {
    "colab": {
     "base_uri": "https://localhost:8080/",
     "height": 52
    },
    "colab_type": "code",
    "id": "awjc0YmM90-W",
    "outputId": "9e452aeb-4e1f-4a46-87e3-e44cf9bc1d6b"
   },
   "outputs": [
    {
     "name": "stdout",
     "output_type": "stream",
     "text": [
      "Train dataset shape: (40000, 20000), \n",
      "Test dataset shape: (10000, 20000)\n"
     ]
    }
   ],
   "source": [
    "X = vect_reviews.toarray()\n",
    "y = (np.array(movies['sentiment']))\n",
    "\n",
    "X_train, X_test, y_train, y_test = train_test_split(X, y, test_size=0.2, random_state=7)\n",
    "print(f\"Train dataset shape: {X_train.shape}, \\nTest dataset shape: {X_test.shape}\")"
   ]
  },
  {
   "cell_type": "markdown",
   "metadata": {
    "colab_type": "text",
    "id": "ER6jEWJ0I4Te"
   },
   "source": [
    "## <h2 align = \"center\">Modeling the data</h2>"
   ]
  },
  {
   "cell_type": "code",
   "execution_count": 56,
   "metadata": {},
   "outputs": [],
   "source": [
    "simple_log = LambdaCallback(\n",
    "    on_epoch_end = lambda e, l: print(f\" ~| Epoch: {e+1} | Validation Loss: {l['val_loss']:.5f}\", end =\" >|> \\n\" ))\n",
    "\n",
    "early_stop = EarlyStopping(monitor='val_loss',\n",
    "                              min_delta=0,\n",
    "                              patience=1,\n",
    "                              verbose=0, \n",
    "                              restore_best_weights=True)\n",
    "sns.set()\n",
    "def plot_learning_curve(hist):\n",
    "    plt.figure(figsize=(5,5))\n",
    "    train = hist.history['acc']\n",
    "    val = hist.history['val_acc']\n",
    "    epochs_run = range(1,len(train) + 1)\n",
    "    sns.lineplot(epochs_run, train, marker = 'o', color = 'coral', label = 'Training Accuracy')\n",
    "    sns.lineplot(epochs_run, val,  marker = '>', color = 'green', label = 'Validation Accuracy')\n",
    "    plt.title(\"Accuracies vs. Epochs\", fontsize = 20)\n",
    "    plt.legend()\n",
    "    plt.show()"
   ]
  },
  {
   "cell_type": "code",
   "execution_count": 41,
   "metadata": {
    "colab": {
     "base_uri": "https://localhost:8080/",
     "height": 229
    },
    "colab_type": "code",
    "id": "7bLEaoSw91Xl",
    "outputId": "24b0393a-bfd5-43de-8d51-008b4081352e"
   },
   "outputs": [
    {
     "name": "stdout",
     "output_type": "stream",
     "text": [
      "_________________________________________________________________\n",
      "Layer (type)                 Output Shape              Param #   \n",
      "=================================================================\n",
      "dense_118 (Dense)            (None, 64)                1280064   \n",
      "_________________________________________________________________\n",
      "dense_119 (Dense)            (None, 1)                 65        \n",
      "=================================================================\n",
      "Total params: 1,280,129\n",
      "Trainable params: 1,280,129\n",
      "Non-trainable params: 0\n",
      "_________________________________________________________________\n"
     ]
    }
   ],
   "source": [
    "input_shape = X_train.shape[1:]\n",
    "\n",
    "model = Sequential([    \n",
    "    Dense(64, activation = 'relu', input_shape = input_shape),\n",
    "    Dense(1, activation = 'sigmoid')\n",
    "])\n",
    "\n",
    "model.compile(\n",
    "    loss = 'binary_crossentropy',\n",
    "    optimizer = 'adam',\n",
    "    metrics = ['accuracy']\n",
    ")\n",
    "\n",
    "model.summary()"
   ]
  },
  {
   "cell_type": "code",
   "execution_count": 42,
   "metadata": {
    "colab": {
     "base_uri": "https://localhost:8080/",
     "height": 1000
    },
    "colab_type": "code",
    "id": "9L2C8tbQ91V5",
    "outputId": "a90a2aac-fab3-45a1-e0fa-9756841fefa4"
   },
   "outputs": [
    {
     "name": "stdout",
     "output_type": "stream",
     "text": [
      " ~| Epoch: 1 | Validation Loss: 0.18305 >|> \n",
      " ~| Epoch: 2 | Validation Loss: 0.17350 >|> \n",
      " ~| Epoch: 3 | Validation Loss: 0.19166 >|> \n",
      " ~| Epoch: 4 | Validation Loss: 0.20891 >|> \n",
      "\n",
      "Done.\n"
     ]
    }
   ],
   "source": [
    "epochs = 20\n",
    "\n",
    "h = model.fit(\n",
    "    X_train, y_train,\n",
    "    validation_split = 0.2,\n",
    "    epochs = epochs,\n",
    "    callbacks = [early_stop, simple_log],\n",
    "    verbose = False)\n",
    "print(\"\\nDone.\")"
   ]
  },
  {
   "cell_type": "code",
   "execution_count": 43,
   "metadata": {
    "colab": {
     "base_uri": "https://localhost:8080/",
     "height": 205
    },
    "colab_type": "code",
    "id": "CRZ12LUt91Rp",
    "outputId": "bd2f33b3-3679-4f08-c6eb-9092cbf4aa9a"
   },
   "outputs": [
    {
     "data": {
      "image/png": "[encoded data removed]",
      "text/plain": [
       "<Figure size 360x360 with 1 Axes>"
      ]
     },
     "metadata": {},
     "output_type": "display_data"
    }
   ],
   "source": [
    "plot_learning_curve(h)"
   ]
  },
  {
   "cell_type": "markdown",
   "metadata": {
    "colab_type": "text",
    "id": "dhAFmV-lSRnI"
   },
   "source": [
    "> **Classic case of overfitting**"
   ]
  },
  {
   "cell_type": "code",
   "execution_count": 44,
   "metadata": {
    "colab": {
     "base_uri": "https://localhost:8080/",
     "height": 52
    },
    "colab_type": "code",
    "id": "RyBP5TaR91Pt",
    "outputId": "62b39ff9-4908-4858-a39c-c7843bffcb87"
   },
   "outputs": [
    {
     "name": "stdout",
     "output_type": "stream",
     "text": [
      "10000/10000 [==============================] - 4s 362us/sample - loss: 0.1924 - acc: 0.9250\n",
      "Testing Accuracy:  92.5000011920929\n"
     ]
    }
   ],
   "source": [
    "loss, acc = model.evaluate(X_test, y_test)\n",
    "print(\"Testing Accuracy: \", acc*100)"
   ]
  },
  {
   "cell_type": "markdown",
   "metadata": {
    "colab_type": "text",
    "id": "MrB6H3alTJDf"
   },
   "source": [
    "> **Trying dropout regularization**"
   ]
  },
  {
   "cell_type": "code",
   "execution_count": 13,
   "metadata": {
    "colab": {
     "base_uri": "https://localhost:8080/",
     "height": 264
    },
    "colab_type": "code",
    "id": "6odmBWBI91NX",
    "outputId": "83bfff58-9ae1-48ed-cfae-84ccbe0309ba"
   },
   "outputs": [
    {
     "name": "stdout",
     "output_type": "stream",
     "text": [
      "WARNING:tensorflow:From C:\\ProgramData\\Anaconda3\\lib\\site-packages\\tensorflow\\python\\keras\\layers\\core.py:143: calling dropout (from tensorflow.python.ops.nn_ops) with keep_prob is deprecated and will be removed in a future version.\n",
      "Instructions for updating:\n",
      "Please use `rate` instead of `keep_prob`. Rate should be set to `rate = 1 - keep_prob`.\n",
      "_________________________________________________________________\n",
      "Layer (type)                 Output Shape              Param #   \n",
      "=================================================================\n",
      "dense_2 (Dense)              (None, 20)                400020    \n",
      "_________________________________________________________________\n",
      "dropout (Dropout)            (None, 20)                0         \n",
      "_________________________________________________________________\n",
      "dense_3 (Dense)              (None, 1)                 21        \n",
      "=================================================================\n",
      "Total params: 400,041\n",
      "Trainable params: 400,041\n",
      "Non-trainable params: 0\n",
      "_________________________________________________________________\n"
     ]
    }
   ],
   "source": [
    "input_shape = X_train.shape[1:]\n",
    "from tensorflow.keras.regularizers import l2\n",
    "\n",
    "model2 = Sequential([    \n",
    "    Dense(20, activation = 'relu', input_shape = input_shape, kernel_regularizer=l2()),\n",
    "    Dropout(0.2),\n",
    "    Dense(1, activation = 'sigmoid')\n",
    "])\n",
    "\n",
    "model2.compile(\n",
    "    loss = 'binary_crossentropy',\n",
    "    optimizer = 'adam',\n",
    "    metrics = ['accuracy']\n",
    ")\n",
    "\n",
    "model2.summary()"
   ]
  },
  {
   "cell_type": "code",
   "execution_count": 14,
   "metadata": {
    "colab": {
     "base_uri": "https://localhost:8080/",
     "height": 229
    },
    "colab_type": "code",
    "id": "Ek9m9Zdm91Jh",
    "outputId": "08b4c0e6-deea-4bff-f615-a3f8e59f1967"
   },
   "outputs": [
    {
     "name": "stdout",
     "output_type": "stream",
     "text": [
      " ~| Epoch: 1 | Validation Loss: 0.68045 >|> \n",
      " ~| Epoch: 2 | Validation Loss: 0.64146 >|> \n",
      " ~| Epoch: 3 | Validation Loss: 0.60731 >|> \n",
      " ~| Epoch: 4 | Validation Loss: 0.58412 >|> \n",
      " ~| Epoch: 5 | Validation Loss: 0.57064 >|> \n",
      " ~| Epoch: 6 | Validation Loss: 0.54559 >|> \n",
      " ~| Epoch: 7 | Validation Loss: 0.52379 >|> \n",
      " ~| Epoch: 8 | Validation Loss: 0.51261 >|> \n",
      " ~| Epoch: 9 | Validation Loss: 0.49817 >|> \n",
      " ~| Epoch: 10 | Validation Loss: 0.48691 >|> \n",
      "Done.\n"
     ]
    }
   ],
   "source": [
    "epochs = 10\n",
    "\n",
    "h2 = model2.fit(\n",
    "    X_train, y_train,\n",
    "    validation_split = 0.2,\n",
    "    epochs = epochs,\n",
    "    callbacks = [early_stop, simple_log],\n",
    "    verbose = False)\n",
    "print(\"Done.\")"
   ]
  },
  {
   "cell_type": "code",
   "execution_count": 15,
   "metadata": {
    "colab": {
     "base_uri": "https://localhost:8080/",
     "height": 390
    },
    "colab_type": "code",
    "id": "GSY_LcHB91Hj",
    "outputId": "05eedbaf-0d02-4a81-c7e5-eb6d0f4e9abe"
   },
   "outputs": [
    {
     "data": {
      "image/png": "[encoded data removed]",
      "text/plain": [
       "<Figure size 360x360 with 1 Axes>"
      ]
     },
     "metadata": {},
     "output_type": "display_data"
    }
   ],
   "source": [
    "plot_learning_curve(h2)"
   ]
  },
  {
   "cell_type": "code",
   "execution_count": 16,
   "metadata": {
    "colab": {
     "base_uri": "https://localhost:8080/",
     "height": 52
    },
    "colab_type": "code",
    "id": "4jm33krA91GH",
    "outputId": "cbacb1c2-32e3-417c-c034-451934a872b6"
   },
   "outputs": [
    {
     "name": "stdout",
     "output_type": "stream",
     "text": [
      "10000/10000 [==============================] - 6s 600us/sample - loss: 0.4948 - acc: 0.8817\n",
      "Testing Accuracy:  88.16999793052673\n"
     ]
    }
   ],
   "source": [
    "loss, acc = model2.evaluate(X_test, y_test)\n",
    "print(\"Testing Accuracy: \", acc*100)"
   ]
  },
  {
   "cell_type": "code",
   "execution_count": 17,
   "metadata": {
    "colab": {
     "base_uri": "https://localhost:8080/",
     "height": 229
    },
    "colab_type": "code",
    "id": "a1nOazZE91Eq",
    "outputId": "fca5508b-3eb0-4c06-c44a-a6f2e05ff5d1"
   },
   "outputs": [
    {
     "name": "stdout",
     "output_type": "stream",
     "text": [
      "_________________________________________________________________\n",
      "Layer (type)                 Output Shape              Param #   \n",
      "=================================================================\n",
      "dense_4 (Dense)              (None, 64)                1280064   \n",
      "_________________________________________________________________\n",
      "dropout_1 (Dropout)          (None, 64)                0         \n",
      "_________________________________________________________________\n",
      "dense_5 (Dense)              (None, 16)                1040      \n",
      "_________________________________________________________________\n",
      "dropout_2 (Dropout)          (None, 16)                0         \n",
      "_________________________________________________________________\n",
      "dense_6 (Dense)              (None, 1)                 17        \n",
      "=================================================================\n",
      "Total params: 1,281,121\n",
      "Trainable params: 1,281,121\n",
      "Non-trainable params: 0\n",
      "_________________________________________________________________\n"
     ]
    }
   ],
   "source": [
    "input_shape = X_train.shape[1:]\n",
    "from tensorflow.keras.regularizers import l2\n",
    "\n",
    "model3 = Sequential([   \n",
    "    Dense(64, activation = 'relu', input_shape = input_shape),\n",
    "    Dropout(0.2),\n",
    "    Dense(16, activation = 'relu'),\n",
    "    Dropout(0.2),\n",
    "    Dense(1, activation = 'sigmoid')\n",
    "])\n",
    "\n",
    "model3.compile(\n",
    "    loss = 'binary_crossentropy',\n",
    "    optimizer = 'adam',\n",
    "    metrics = ['accuracy']\n",
    ")\n",
    "\n",
    "model3.summary()"
   ]
  },
  {
   "cell_type": "code",
   "execution_count": 45,
   "metadata": {
    "colab": {
     "base_uri": "https://localhost:8080/",
     "height": 34
    },
    "colab_type": "code",
    "id": "0Qb6uj-G9087",
    "outputId": "47bab320-edb0-4c14-cc0a-707ac9858ad2",
    "scrolled": true
   },
   "outputs": [
    {
     "name": "stdout",
     "output_type": "stream",
     "text": [
      " ~| Epoch: 1 | Validation Loss: 0.18744 >|> \n",
      " ~| Epoch: 2 | Validation Loss: 0.23030 >|> \n",
      " ~| Epoch: 3 | Validation Loss: 0.28712 >|> \n",
      "\n",
      "Done.\n"
     ]
    }
   ],
   "source": [
    "epochs = 20\n",
    "\n",
    "h3 = model3.fit(\n",
    "    X_train, y_train,\n",
    "    validation_split = 0.2,\n",
    "    epochs = epochs,\n",
    "    callbacks = [early_stop, simple_log],\n",
    "    verbose = False\n",
    ")\n",
    "print(\"\\nDone.\")"
   ]
  },
  {
   "cell_type": "code",
   "execution_count": 46,
   "metadata": {
    "colab": {},
    "colab_type": "code",
    "id": "vweDHdyT906e",
    "scrolled": true
   },
   "outputs": [
    {
     "data": {
      "image/png": "[encoded data removed]",
      "text/plain": [
       "<Figure size 360x360 with 1 Axes>"
      ]
     },
     "metadata": {},
     "output_type": "display_data"
    }
   ],
   "source": [
    "plot_learning_curve(h3)"
   ]
  },
  {
   "cell_type": "code",
   "execution_count": 47,
   "metadata": {
    "colab": {},
    "colab_type": "code",
    "id": "Yzr7oiLo903n"
   },
   "outputs": [
    {
     "name": "stdout",
     "output_type": "stream",
     "text": [
      "10000/10000 [==============================] - 3s 344us/sample - loss: 0.2063 - acc: 0.9227\n",
      "Testing Accuracy:  92.26999878883362\n"
     ]
    }
   ],
   "source": [
    "loss, acc = model3.evaluate(X_test, y_test)\n",
    "print(\"Testing Accuracy: \", acc*100)"
   ]
  },
  {
   "cell_type": "markdown",
   "metadata": {},
   "source": [
    "### <h3 align = \"center\">Optimize activations and learning rate</h3>"
   ]
  },
  {
   "cell_type": "code",
   "execution_count": 21,
   "metadata": {
    "colab": {},
    "colab_type": "code",
    "id": "xd1tJdu19016"
   },
   "outputs": [],
   "source": [
    "def create_model(learning_rate=0.01, activation='relu'):\n",
    "    opt = tf.keras.optimizers.Adam(lr=learning_rate)\n",
    "    model = Sequential()\n",
    "    model.add(Dense(64, input_shape=input_shape, activation=activation)),\n",
    "    Dropout(0.2),\n",
    "    model.add(Dense(16, activation=activation))\n",
    "    model.add(Dense(1, activation='sigmoid'))\n",
    "    \n",
    "    model.compile(optimizer=opt, loss='binary_crossentropy', metrics=['accuracy'])\n",
    "    return model"
   ]
  },
  {
   "cell_type": "code",
   "execution_count": 22,
   "metadata": {
    "colab": {},
    "colab_type": "code",
    "id": "yvkpAZii90tP"
   },
   "outputs": [
    {
     "name": "stderr",
     "output_type": "stream",
     "text": [
      "Using TensorFlow backend.\n"
     ]
    }
   ],
   "source": [
    "# Random Search is better than exhaustive search for hyperparameter tuning\n",
    "# Import KerasClassifier from keras wrappers\n",
    "from keras.wrappers.scikit_learn import KerasClassifier\n",
    "from sklearn.model_selection import RandomizedSearchCV, KFold, GridSearchCV\n",
    "\n",
    "\n",
    "# Create a KerasClassifier\n",
    "model = KerasClassifier(build_fn = create_model)\n",
    "\n",
    "# Define the parameters to try out\n",
    "params = {'activation': ['relu'],'epochs': [3, 5, 10], \n",
    "          'learning_rate': [0.1, 0.01, 0.001], 'batch_size': [64, 128, 256]}\n",
    "\n",
    "# Create a randomize search cv object passing in the parameters to try\n",
    "random_search = RandomizedSearchCV(model, param_distributions = params, cv = KFold(2))"
   ]
  },
  {
   "cell_type": "code",
   "execution_count": 23,
   "metadata": {
    "colab": {},
    "colab_type": "code",
    "id": "jYnnju8H90pt"
   },
   "outputs": [
    {
     "name": "stdout",
     "output_type": "stream",
     "text": [
      "Epoch 1/10\n",
      "20000/20000 [==============================] - 10s 510us/sample - loss: 0.2570 - acc: 0.8898 - loss: 0\n",
      "Epoch 2/10\n",
      "20000/20000 [==============================] - 9s 458us/sample - loss: 0.0723 - acc: 0.9743\n",
      "Epoch 3/10\n",
      "20000/20000 [==============================] - 9s 452us/sample - loss: 0.0295 - acc: 0.9893\n",
      "Epoch 4/10\n",
      "20000/20000 [==============================] - 9s 465us/sample - loss: 0.0162 - acc: 0.9942\n",
      "Epoch 5/10\n",
      "20000/20000 [==============================] - 12s 590us/sample - loss: 0.0097 - acc: 0.9968\n",
      "Epoch 6/10\n",
      "20000/20000 [==============================] - 10s 501us/sample - loss: 0.0105 - acc: 0.9961\n",
      "Epoch 7/10\n",
      "20000/20000 [==============================] - 10s 483us/sample - loss: 0.0111 - acc: 0.9959\n",
      "Epoch 8/10\n",
      "20000/20000 [==============================] - 10s 479us/sample - loss: 0.0062 - acc: 0.9980\n",
      "Epoch 9/10\n",
      "20000/20000 [==============================] - 9s 457us/sample - loss: 0.0035 - acc: 0.9987\n",
      "Epoch 10/10\n",
      "20000/20000 [==============================] - 9s 454us/sample - loss: 0.0038 - acc: 0.9989\n",
      "20000/20000 [==============================] - 4s 220us/sample - loss: 0.7403 - acc: 0.9007\n",
      "Epoch 1/10\n",
      "20000/20000 [==============================] - 13s 648us/sample - loss: 0.2608 - acc: 0.8937\n",
      "Epoch 2/10\n",
      "20000/20000 [==============================] - 9s 451us/sample - loss: 0.0780 - acc: 0.9728\n",
      "Epoch 3/10\n",
      "20000/20000 [==============================] - 9s 450us/sample - loss: 0.0342 - acc: 0.9868s -\n",
      "Epoch 4/10\n",
      "20000/20000 [==============================] - 9s 475us/sample - loss: 0.0281 - acc: 0.9893\n",
      "Epoch 5/10\n",
      "20000/20000 [==============================] - 10s 478us/sample - loss: 0.0153 - acc: 0.9949\n",
      "Epoch 6/10\n",
      "20000/20000 [==============================] - 9s 450us/sample - loss: 0.0102 - acc: 0.9967\n",
      "Epoch 7/10\n",
      "20000/20000 [==============================] - 9s 454us/sample - loss: 0.0065 - acc: 0.9977\n",
      "Epoch 8/10\n",
      "20000/20000 [==============================] - 9s 460us/sample - loss: 0.0044 - acc: 0.9984\n",
      "Epoch 9/10\n",
      "20000/20000 [==============================] - 9s 456us/sample - loss: 0.0071 - acc: 0.9975s - \n",
      "Epoch 10/10\n",
      "20000/20000 [==============================] - 9s 462us/sample - loss: 0.0109 - acc: 0.9961\n",
      "20000/20000 [==============================] - 5s 241us/sample - loss: 0.5632 - acc: 0.8997\n",
      "Epoch 1/5\n",
      "20000/20000 [==============================] - 8s 385us/sample - loss: 0.3782 - acc: 0.8224\n",
      "Epoch 2/5\n",
      "20000/20000 [==============================] - 5s 263us/sample - loss: 0.1151 - acc: 0.9617\n",
      "Epoch 3/5\n",
      "20000/20000 [==============================] - 5s 264us/sample - loss: 0.0460 - acc: 0.9872\n",
      "Epoch 4/5\n",
      "20000/20000 [==============================] - 5s 261us/sample - loss: 0.0297 - acc: 0.9908\n",
      "Epoch 5/5\n",
      "20000/20000 [==============================] - 5s 264us/sample - loss: 0.0220 - acc: 0.9926\n",
      "20000/20000 [==============================] - 3s 165us/sample - loss: 0.4734 - acc: 0.9010\n",
      "Epoch 1/5\n",
      "20000/20000 [==============================] - 9s 427us/sample - loss: 0.2775 - acc: 0.8797\n",
      "Epoch 2/5\n",
      "20000/20000 [==============================] - 5s 267us/sample - loss: 0.0734 - acc: 0.9733\n",
      "Epoch 3/5\n",
      "20000/20000 [==============================] - 5s 261us/sample - loss: 0.0328 - acc: 0.9880\n",
      "Epoch 4/5\n",
      "20000/20000 [==============================] - 5s 263us/sample - loss: 0.0278 - acc: 0.9902\n",
      "Epoch 5/5\n",
      "20000/20000 [==============================] - 5s 263us/sample - loss: 0.0203 - acc: 0.9928\n",
      "20000/20000 [==============================] - 3s 170us/sample - loss: 0.5503 - acc: 0.8981\n",
      "Epoch 1/3\n",
      "20000/20000 [==============================] - 11s 556us/sample - loss: 0.2549 - acc: 0.8952\n",
      "Epoch 2/3\n",
      "20000/20000 [==============================] - 9s 444us/sample - loss: 0.0796 - acc: 0.9683\n",
      "Epoch 3/3\n",
      "20000/20000 [==============================] - 9s 443us/sample - loss: 0.0472 - acc: 0.9820\n",
      "20000/20000 [==============================] - 4s 217us/sample - loss: 0.5058 - acc: 0.8995\n",
      "Epoch 1/3\n",
      "20000/20000 [==============================] - 11s 565us/sample - loss: 0.2669 - acc: 0.8888\n",
      "Epoch 2/3\n",
      "20000/20000 [==============================] - 9s 462us/sample - loss: 0.0881 - acc: 0.9649\n",
      "Epoch 3/3\n",
      "20000/20000 [==============================] - 9s 448us/sample - loss: 0.0563 - acc: 0.9795\n",
      "20000/20000 [==============================] - 4s 212us/sample - loss: 0.3878 - acc: 0.9046\n",
      "Epoch 1/3\n",
      "20000/20000 [==============================] - 10s 503us/sample - loss: 0.3426 - acc: 0.8693\n",
      "Epoch 2/3\n",
      "20000/20000 [==============================] - 9s 455us/sample - loss: 0.1179 - acc: 0.9592\n",
      "Epoch 3/3\n",
      "20000/20000 [==============================] - 10s 484us/sample - loss: 0.0529 - acc: 0.9862\n",
      "20000/20000 [==============================] - 4s 220us/sample - loss: 0.2361 - acc: 0.9171\n",
      "Epoch 1/3\n",
      "20000/20000 [==============================] - 10s 507us/sample - loss: 0.3342 - acc: 0.8871\n",
      "Epoch 2/3\n",
      "20000/20000 [==============================] - 9s 447us/sample - loss: 0.1212 - acc: 0.9583\n",
      "Epoch 3/3\n",
      "20000/20000 [==============================] - 9s 448us/sample - loss: 0.0569 - acc: 0.9850\n",
      "20000/20000 [==============================] - 4s 224us/sample - loss: 0.2253 - acc: 0.9172\n",
      "Epoch 1/10\n",
      "20000/20000 [==============================] - 10s 525us/sample - loss: 0.3408 - acc: 0.8726\n",
      "Epoch 2/10\n",
      "20000/20000 [==============================] - 9s 447us/sample - loss: 0.1173 - acc: 0.9582\n",
      "Epoch 3/10\n",
      "20000/20000 [==============================] - 9s 445us/sample - loss: 0.0519 - acc: 0.9864\n",
      "Epoch 4/10\n",
      "20000/20000 [==============================] - 9s 451us/sample - loss: 0.0204 - acc: 0.9972\n",
      "Epoch 5/10\n",
      "20000/20000 [==============================] - 9s 474us/sample - loss: 0.0077 - acc: 0.9995\n",
      "Epoch 6/10\n",
      "20000/20000 [==============================] - 10s 490us/sample - loss: 0.0032 - acc: 0.9998\n",
      "Epoch 7/10\n",
      "20000/20000 [==============================] - 9s 461us/sample - loss: 0.0016 - acc: 1.0000\n",
      "Epoch 8/10\n",
      "20000/20000 [==============================] - 9s 460us/sample - loss: 9.6778e-04 - acc: 1.0000\n",
      "Epoch 9/10\n",
      "20000/20000 [==============================] - 9s 459us/sample - loss: 6.5906e-04 - acc: 1.0000\n",
      "Epoch 10/10\n",
      "20000/20000 [==============================] - 9s 459us/sample - loss: 4.6826e-04 - acc: 1.0000s - loss: 5.00 - ETA: 3s - loss: 4 - E\n",
      "20000/20000 [==============================] - 4s 225us/sample - loss: 0.3992 - acc: 0.9119\n",
      "Epoch 1/10\n",
      "20000/20000 [==============================] - 10s 494us/sample - loss: 0.3436 - acc: 0.8703\n",
      "Epoch 2/10\n",
      "20000/20000 [==============================] - 9s 455us/sample - loss: 0.1241 - acc: 0.9563s - los\n",
      "Epoch 3/10\n",
      "20000/20000 [==============================] - 9s 460us/sample - loss: 0.0561 - acc: 0.9847\n",
      "Epoch 4/10\n",
      "20000/20000 [==============================] - 9s 460us/sample - loss: 0.0226 - acc: 0.9969\n",
      "Epoch 5/10\n",
      "20000/20000 [==============================] - 9s 461us/sample - loss: 0.0088 - acc: 0.9993s\n",
      "Epoch 6/10\n",
      "20000/20000 [==============================] - 10s 492us/sample - loss: 0.0042 - acc: 0.9997\n",
      "Epoch 7/10\n",
      "20000/20000 [==============================] - 10s 484us/sample - loss: 0.0020 - acc: 0.9998\n",
      "Epoch 8/10\n",
      "20000/20000 [==============================] - 9s 469us/sample - loss: 0.0011 - acc: 1.0000\n",
      "Epoch 9/10\n",
      "20000/20000 [==============================] - 9s 464us/sample - loss: 6.8518e-04 - acc: 1.0000\n",
      "Epoch 10/10\n",
      "20000/20000 [==============================] - 9s 469us/sample - loss: 2.9483e-04 - acc: 1.0000\n",
      "20000/20000 [==============================] - 5s 232us/sample - loss: 0.4245 - acc: 0.9122\n",
      "Epoch 1/3\n",
      "20000/20000 [==============================] - 7s 329us/sample - loss: 0.5613 - acc: 0.8494\n",
      "Epoch 2/3\n",
      "20000/20000 [==============================] - 5s 268us/sample - loss: 0.2480 - acc: 0.9223\n",
      "Epoch 3/3\n",
      "20000/20000 [==============================] - 5s 266us/sample - loss: 0.1462 - acc: 0.9513\n",
      "20000/20000 [==============================] - 3s 167us/sample - loss: 0.1937 - acc: 0.9243\n",
      "Epoch 1/3\n",
      "20000/20000 [==============================] - 7s 327us/sample - loss: 0.5252 - acc: 0.8303\n",
      "Epoch 2/3\n",
      "20000/20000 [==============================] - 5s 267us/sample - loss: 0.2197 - acc: 0.9291\n",
      "Epoch 3/3\n",
      "20000/20000 [==============================] - 5s 268us/sample - loss: 0.1329 - acc: 0.9573\n",
      "20000/20000 [==============================] - 5s 227us/sample - loss: 0.1892 - acc: 0.9232\n",
      "Epoch 1/5\n"
     ]
    },
    {
     "name": "stdout",
     "output_type": "stream",
     "text": [
      "20000/20000 [==============================] - 10s 500us/sample - loss: 0.2976 - acc: 0.8616\n",
      "Epoch 2/5\n",
      "20000/20000 [==============================] - 9s 447us/sample - loss: 0.0964 - acc: 0.9657\n",
      "Epoch 3/5\n",
      "20000/20000 [==============================] - 9s 449us/sample - loss: 0.0620 - acc: 0.9799\n",
      "Epoch 4/5\n",
      "20000/20000 [==============================] - 9s 451us/sample - loss: 0.0378 - acc: 0.9879\n",
      "Epoch 5/5\n",
      "20000/20000 [==============================] - 9s 463us/sample - loss: 0.0232 - acc: 0.9925s - loss:\n",
      "20000/20000 [==============================] - 5s 239us/sample - loss: 0.5668 - acc: 0.9018s - loss: 0.5708 - acc: 0.\n",
      "Epoch 1/5\n",
      "20000/20000 [==============================] - 11s 538us/sample - loss: 0.2822 - acc: 0.8873\n",
      "Epoch 2/5\n",
      "20000/20000 [==============================] - 9s 458us/sample - loss: 0.0985 - acc: 0.9667\n",
      "Epoch 3/5\n",
      "20000/20000 [==============================] - 9s 455us/sample - loss: 0.0505 - acc: 0.9857\n",
      "Epoch 4/5\n",
      "20000/20000 [==============================] - 9s 467us/sample - loss: 0.0483 - acc: 0.9870\n",
      "Epoch 5/5\n",
      "20000/20000 [==============================] - 10s 480us/sample - loss: 0.0415 - acc: 0.9886\n",
      "20000/20000 [==============================] - 5s 242us/sample - loss: 0.4363 - acc: 0.9013\n",
      "Epoch 1/3\n",
      "20000/20000 [==============================] - 8s 402us/sample - loss: 0.2668 - acc: 0.8854\n",
      "Epoch 2/3\n",
      "20000/20000 [==============================] - 7s 328us/sample - loss: 0.0726 - acc: 0.9759\n",
      "Epoch 3/3\n",
      "20000/20000 [==============================] - 6s 324us/sample - loss: 0.0235 - acc: 0.9926\n",
      "20000/20000 [==============================] - 4s 194us/sample - loss: 0.4124 - acc: 0.9023\n",
      "Epoch 1/3\n",
      "20000/20000 [==============================] - 8s 384us/sample - loss: 0.2752 - acc: 0.8856\n",
      "Epoch 2/3\n",
      "20000/20000 [==============================] - 7s 339us/sample - loss: 0.0803 - acc: 0.9734\n",
      "Epoch 3/3\n",
      "20000/20000 [==============================] - 7s 331us/sample - loss: 0.0282 - acc: 0.9905\n",
      "20000/20000 [==============================] - 4s 201us/sample - loss: 0.3692 - acc: 0.9064\n",
      "Epoch 1/5\n",
      "20000/20000 [==============================] - 9s 464us/sample - loss: 0.4361 - acc: 0.8518\n",
      "Epoch 2/5\n",
      "20000/20000 [==============================] - 6s 324us/sample - loss: 0.1540 - acc: 0.9454\n",
      "Epoch 3/5\n",
      "20000/20000 [==============================] - 7s 325us/sample - loss: 0.0833 - acc: 0.9746\n",
      "Epoch 4/5\n",
      "20000/20000 [==============================] - 7s 329us/sample - loss: 0.0443 - acc: 0.9909\n",
      "Epoch 5/5\n",
      "20000/20000 [==============================] - 7s 327us/sample - loss: 0.0217 - acc: 0.9979\n",
      "20000/20000 [==============================] - 4s 189us/sample - loss: 0.2542 - acc: 0.9158\n",
      "Epoch 1/5\n",
      "20000/20000 [==============================] - 8s 417us/sample - loss: 0.4030 - acc: 0.8669\n",
      "Epoch 2/5\n",
      "20000/20000 [==============================] - 7s 333us/sample - loss: 0.1479 - acc: 0.9481\n",
      "Epoch 3/5\n",
      "20000/20000 [==============================] - 6s 320us/sample - loss: 0.0800 - acc: 0.9770\n",
      "Epoch 4/5\n",
      "20000/20000 [==============================] - 7s 331us/sample - loss: 0.0411 - acc: 0.9922\n",
      "Epoch 5/5\n",
      "20000/20000 [==============================] - 7s 329us/sample - loss: 0.0191 - acc: 0.9981\n",
      "20000/20000 [==============================] - 4s 192us/sample - loss: 0.2515 - acc: 0.9179\n",
      "Epoch 1/3\n",
      "20000/20000 [==============================] - ETA: 0s - loss: 0.2641 - acc: 0.883 - 7s 340us/sample - loss: 0.2640 - acc: 0.8838\n",
      "Epoch 2/3\n",
      "20000/20000 [==============================] - 6s 278us/sample - loss: 0.0620 - acc: 0.9770\n",
      "Epoch 3/3\n",
      "20000/20000 [==============================] - 6s 281us/sample - loss: 0.0239 - acc: 0.9926\n",
      "20000/20000 [==============================] - 4s 184us/sample - loss: 0.3565 - acc: 0.9036\n",
      "Epoch 1/3\n",
      "20000/20000 [==============================] - 7s 339us/sample - loss: 0.3286 - acc: 0.8712\n",
      "Epoch 2/3\n",
      "20000/20000 [==============================] - 5s 267us/sample - loss: 0.1037 - acc: 0.9678\n",
      "Epoch 3/3\n",
      "20000/20000 [==============================] - 5s 266us/sample - loss: 0.0424 - acc: 0.9893\n",
      "20000/20000 [==============================] - 4s 189us/sample - loss: 0.5163 - acc: 0.9040\n",
      "Epoch 1/3\n",
      "40000/40000 [==============================] - 15s 382us/sample - loss: 0.3989 - acc: 0.8617\n",
      "Epoch 2/3\n",
      "40000/40000 [==============================] - 11s 268us/sample - loss: 0.1567 - acc: 0.9438\n",
      "Epoch 3/3\n",
      "40000/40000 [==============================] - 11s 265us/sample - loss: 0.1050 - acc: 0.9642\n"
     ]
    },
    {
     "data": {
      "text/plain": [
       "RandomizedSearchCV(cv=KFold(n_splits=2, random_state=None, shuffle=False),\n",
       "                   error_score=nan,\n",
       "                   estimator=<keras.wrappers.scikit_learn.KerasClassifier object at 0x000001D6C8D142C8>,\n",
       "                   iid='deprecated', n_iter=10, n_jobs=None,\n",
       "                   param_distributions={'activation': ['relu'],\n",
       "                                        'batch_size': [64, 128, 256],\n",
       "                                        'epochs': [3, 5, 10],\n",
       "                                        'learning_rate': [0.1, 0.01, 0.001]},\n",
       "                   pre_dispatch='2*n_jobs', random_state=None, refit=True,\n",
       "                   return_train_score=False, scoring=None, verbose=0)"
      ]
     },
     "execution_count": 23,
     "metadata": {},
     "output_type": "execute_result"
    }
   ],
   "source": [
    "# takes a lot of time ...\n",
    "random_search.fit(X_train, y_train,\n",
    "                  verbose = True)"
   ]
  },
  {
   "cell_type": "code",
   "execution_count": 24,
   "metadata": {
    "colab": {},
    "colab_type": "code",
    "id": "npgSXLyG90m_"
   },
   "outputs": [
    {
     "data": {
      "text/plain": [
       "{'learning_rate': 0.001, 'epochs': 3, 'batch_size': 256, 'activation': 'relu'}"
      ]
     },
     "execution_count": 24,
     "metadata": {},
     "output_type": "execute_result"
    }
   ],
   "source": [
    "random_search.best_params_"
   ]
  },
  {
   "cell_type": "code",
   "execution_count": 25,
   "metadata": {},
   "outputs": [
    {
     "name": "stdout",
     "output_type": "stream",
     "text": [
      "Training set Accuracy:  98.2175\n",
      "Test set Accuracy:  92.73\n"
     ]
    }
   ],
   "source": [
    "best_random = random_search.best_estimator_ \n",
    "pred = best_random.predict(X_test)\n",
    "pred_train = best_random.predict(X_train)\n",
    "print(\"Training set Accuracy: \", accuracy_score(pred_train, y_train)*100)\n",
    "print(\"Test set Accuracy: \", accuracy_score(pred, y_test)*100)"
   ]
  },
  {
   "cell_type": "code",
   "execution_count": 26,
   "metadata": {},
   "outputs": [],
   "source": [
    "def create_model(drop_out=0.2, units=64, learning_rate = 0.001):\n",
    "    model = Sequential()\n",
    "    model.add(Dropout(drop_out, input_shape=input_shape))\n",
    "    model.add(Dense(units, activation = 'relu'))\n",
    "    model.add(Dropout(drop_out))\n",
    "    model.add(Dense(1, activation = 'sigmoid'))\n",
    "    model.compile(optimizer=tf.keras.optimizers.Adam(lr=learning_rate), loss='binary_crossentropy', metrics=['accuracy'])\n",
    "    return model"
   ]
  },
  {
   "cell_type": "code",
   "execution_count": 27,
   "metadata": {},
   "outputs": [],
   "source": [
    "model_params = KerasClassifier(build_fn = create_model)\n",
    "\n",
    "params = {'drop_out': [0.2, 0.15, 0.1, 0.01], 'units': [60, 70, 90],\n",
    "          'learning_rate': [0.001], 'batch_size': [128], 'epochs' : [5]}\n",
    "\n",
    "# Create a randomize search cv object passing in the parameters to try\n",
    "random_params = RandomizedSearchCV(model_params, param_distributions = params, cv = KFold(2))"
   ]
  },
  {
   "cell_type": "code",
   "execution_count": 28,
   "metadata": {
    "scrolled": false
   },
   "outputs": [
    {
     "name": "stdout",
     "output_type": "stream",
     "text": [
      "Epoch 1/5\n",
      "20000/20000 [==============================] - 12s 611us/sample - loss: 0.5862 - acc: 0.8242\n",
      "Epoch 2/5\n",
      "20000/20000 [==============================] - 7s 374us/sample - loss: 0.3813 - acc: 0.8921\n",
      "Epoch 3/5\n",
      "20000/20000 [==============================] - 7s 370us/sample - loss: 0.2797 - acc: 0.9103\n",
      "Epoch 4/5\n",
      "20000/20000 [==============================] - 7s 369us/sample - loss: 0.2300 - acc: 0.9219\n",
      "Epoch 5/5\n",
      "20000/20000 [==============================] - 7s 371us/sample - loss: 0.1941 - acc: 0.9374\n",
      "20000/20000 [==============================] - 4s 187us/sample - loss: 0.2163 - acc: 0.9189\n",
      "Epoch 1/5\n",
      "20000/20000 [==============================] - 9s 446us/sample - loss: 0.5949 - acc: 0.8191s - loss: 0.6082 - \n",
      "Epoch 2/5\n",
      "20000/20000 [==============================] - 7s 367us/sample - loss: 0.3908 - acc: 0.8887\n",
      "Epoch 3/5\n",
      "20000/20000 [==============================] - 7s 365us/sample - loss: 0.2878 - acc: 0.9068\n",
      "Epoch 4/5\n",
      "20000/20000 [==============================] - 7s 372us/sample - loss: 0.2350 - acc: 0.9217s\n",
      "Epoch 5/5\n",
      "20000/20000 [==============================] - 7s 373us/sample - loss: 0.2008 - acc: 0.9320\n",
      "20000/20000 [==============================] - 3s 169us/sample - loss: 0.2154 - acc: 0.9192\n",
      "Epoch 1/5\n",
      "20000/20000 [==============================] - 9s 455us/sample - loss: 0.5889 - acc: 0.8260\n",
      "Epoch 2/5\n",
      "20000/20000 [==============================] - 7s 367us/sample - loss: 0.3830 - acc: 0.8921\n",
      "Epoch 3/5\n",
      "20000/20000 [==============================] - 7s 373us/sample - loss: 0.2767 - acc: 0.9143\n",
      "Epoch 4/5\n",
      "20000/20000 [==============================] - 8s 386us/sample - loss: 0.2234 - acc: 0.9262\n",
      "Epoch 5/5\n",
      "20000/20000 [==============================] - 8s 391us/sample - loss: 0.1889 - acc: 0.9370\n",
      "20000/20000 [==============================] - 3s 170us/sample - loss: 0.2152 - acc: 0.9200\n",
      "Epoch 1/5\n",
      "20000/20000 [==============================] - 9s 471us/sample - loss: 0.5847 - acc: 0.8285\n",
      "Epoch 2/5\n",
      "20000/20000 [==============================] - 7s 369us/sample - loss: 0.3739 - acc: 0.8909\n",
      "Epoch 3/5\n",
      "20000/20000 [==============================] - 7s 373us/sample - loss: 0.2722 - acc: 0.9121\n",
      "Epoch 4/5\n",
      "20000/20000 [==============================] - 7s 372us/sample - loss: 0.2223 - acc: 0.9269\n",
      "Epoch 5/5\n",
      "20000/20000 [==============================] - 7s 372us/sample - loss: 0.1881 - acc: 0.9385\n",
      "20000/20000 [==============================] - 4s 179us/sample - loss: 0.2112 - acc: 0.9203\n",
      "Epoch 1/5\n",
      "20000/20000 [==============================] - 10s 488us/sample - loss: 0.5336 - acc: 0.8608\n",
      "Epoch 2/5\n",
      "20000/20000 [==============================] - 9s 428us/sample - loss: 0.2876 - acc: 0.9133\n",
      "Epoch 3/5\n",
      "20000/20000 [==============================] - 9s 427us/sample - loss: 0.1993 - acc: 0.9378\n",
      "Epoch 4/5\n",
      "20000/20000 [==============================] - 9s 438us/sample - loss: 0.1544 - acc: 0.9516\n",
      "Epoch 5/5\n",
      "20000/20000 [==============================] - 9s 428us/sample - loss: 0.1235 - acc: 0.9632\n",
      "20000/20000 [==============================] - 5s 260us/sample - loss: 0.1964 - acc: 0.9223\n",
      "Epoch 1/5\n",
      "20000/20000 [==============================] - 10s 496us/sample - loss: 0.5299 - acc: 0.8562\n",
      "Epoch 2/5\n",
      "20000/20000 [==============================] - 9s 430us/sample - loss: 0.2870 - acc: 0.9122\n",
      "Epoch 3/5\n",
      "20000/20000 [==============================] - 9s 431us/sample - loss: 0.2008 - acc: 0.9366\n",
      "Epoch 4/5\n",
      "20000/20000 [==============================] - 9s 433us/sample - loss: 0.1566 - acc: 0.9512\n",
      "Epoch 5/5\n",
      "20000/20000 [==============================] - 9s 474us/sample - loss: 0.1272 - acc: 0.9614\n",
      "20000/20000 [==============================] - 4s 196us/sample - loss: 0.1927 - acc: 0.9223\n",
      "Epoch 1/5\n",
      "20000/20000 [==============================] - 10s 481us/sample - loss: 0.5511 - acc: 0.8323\n",
      "Epoch 2/5\n",
      "20000/20000 [==============================] - 9s 428us/sample - loss: 0.3178 - acc: 0.9027\n",
      "Epoch 3/5\n",
      "20000/20000 [==============================] - 9s 434us/sample - loss: 0.2297 - acc: 0.9232\n",
      "Epoch 4/5\n",
      "20000/20000 [==============================] - 10s 477us/sample - loss: 0.1833 - acc: 0.9390\n",
      "Epoch 5/5\n",
      "20000/20000 [==============================] - 9s 426us/sample - loss: 0.1554 - acc: 0.9481\n",
      "20000/20000 [==============================] - 4s 182us/sample - loss: 0.1990 - acc: 0.9227\n",
      "Epoch 1/5\n",
      "20000/20000 [==============================] - 10s 497us/sample - loss: 0.5580 - acc: 0.8432\n",
      "Epoch 2/5\n",
      "20000/20000 [==============================] - 9s 443us/sample - loss: 0.3218 - acc: 0.8992\n",
      "Epoch 3/5\n",
      "20000/20000 [==============================] - 9s 459us/sample - loss: 0.2319 - acc: 0.9226\n",
      "Epoch 4/5\n",
      "20000/20000 [==============================] - 9s 429us/sample - loss: 0.1885 - acc: 0.9347\n",
      "Epoch 5/5\n",
      "20000/20000 [==============================] - 9s 429us/sample - loss: 0.1579 - acc: 0.9478\n",
      "20000/20000 [==============================] - 4s 192us/sample - loss: 0.1961 - acc: 0.9228\n",
      "Epoch 1/5\n",
      "20000/20000 [==============================] - 13s 651us/sample - loss: 0.5101 - acc: 0.8445\n",
      "Epoch 2/5\n",
      "20000/20000 [==============================] - 11s 536us/sample - loss: 0.2559 - acc: 0.9201\n",
      "Epoch 3/5\n",
      "20000/20000 [==============================] - 10s 520us/sample - loss: 0.1748 - acc: 0.9438\n",
      "Epoch 4/5\n",
      "20000/20000 [==============================] - 10s 522us/sample - loss: 0.1327 - acc: 0.9600\n",
      "Epoch 5/5\n",
      "20000/20000 [==============================] - 10s 523us/sample - loss: 0.1033 - acc: 0.9706\n",
      "20000/20000 [==============================] - 5s 248us/sample - loss: 0.1915 - acc: 0.9238\n",
      "Epoch 1/5\n",
      "20000/20000 [==============================] - 12s 592us/sample - loss: 0.5039 - acc: 0.8494\n",
      "Epoch 2/5\n",
      "20000/20000 [==============================] - 11s 530us/sample - loss: 0.2542 - acc: 0.9182\n",
      "Epoch 3/5\n",
      "20000/20000 [==============================] - 11s 531us/sample - loss: 0.1772 - acc: 0.9438\n",
      "Epoch 4/5\n",
      "20000/20000 [==============================] - 10s 517us/sample - loss: 0.1357 - acc: 0.9585\n",
      "Epoch 5/5\n",
      "20000/20000 [==============================] - 11s 555us/sample - loss: 0.1074 - acc: 0.9689\n",
      "20000/20000 [==============================] - 4s 216us/sample - loss: 0.1888 - acc: 0.9239\n",
      "Epoch 1/5\n",
      "20000/20000 [==============================] - 9s 469us/sample - loss: 0.5798 - acc: 0.8067\n",
      "Epoch 2/5\n",
      "20000/20000 [==============================] - 8s 377us/sample - loss: 0.3658 - acc: 0.8982s - loss: 0.3699 - acc:\n",
      "Epoch 3/5\n",
      "20000/20000 [==============================] - 8s 376us/sample - loss: 0.2622 - acc: 0.9180\n",
      "Epoch 4/5\n",
      "20000/20000 [==============================] - 8s 416us/sample - loss: 0.2109 - acc: 0.9326\n",
      "Epoch 5/5\n",
      "20000/20000 [==============================] - 8s 394us/sample - loss: 0.1759 - acc: 0.9444\n",
      "20000/20000 [==============================] - 4s 190us/sample - loss: 0.2112 - acc: 0.9208\n",
      "Epoch 1/5\n",
      "20000/20000 [==============================] - 9s 457us/sample - loss: 0.5838 - acc: 0.8389\n",
      "Epoch 2/5\n",
      "20000/20000 [==============================] - 7s 371us/sample - loss: 0.3708 - acc: 0.8946\n",
      "Epoch 3/5\n",
      "20000/20000 [==============================] - 8s 379us/sample - loss: 0.2658 - acc: 0.9172\n",
      "Epoch 4/5\n",
      "20000/20000 [==============================] - 8s 422us/sample - loss: 0.2151 - acc: 0.9308\n",
      "Epoch 5/5\n",
      "20000/20000 [==============================] - 8s 383us/sample - loss: 0.1807 - acc: 0.9427\n",
      "20000/20000 [==============================] - 4s 187us/sample - loss: 0.2094 - acc: 0.9209s - loss: 0.2137 - - ETA: 1s - los\n",
      "Epoch 1/5\n",
      "20000/20000 [==============================] - 10s 500us/sample - loss: 0.5467 - acc: 0.8538\n",
      "Epoch 2/5\n",
      "20000/20000 [==============================] - 9s 430us/sample - loss: 0.3081 - acc: 0.9049\n",
      "Epoch 3/5\n",
      "20000/20000 [==============================] - 9s 462us/sample - loss: 0.2202 - acc: 0.9286\n",
      "Epoch 4/5\n",
      "20000/20000 [==============================] - 9s 460us/sample - loss: 0.1758 - acc: 0.9417\n",
      "Epoch 5/5\n",
      "20000/20000 [==============================] - 9s 425us/sample - loss: 0.1471 - acc: 0.9513\n",
      "20000/20000 [==============================] - 4s 192us/sample - loss: 0.1978 - acc: 0.9226\n",
      "Epoch 1/5\n",
      "20000/20000 [==============================] - 10s 517us/sample - loss: 0.5417 - acc: 0.8480\n",
      "Epoch 2/5\n",
      "20000/20000 [==============================] - 9s 473us/sample - loss: 0.3076 - acc: 0.9039s - loss: 0.35 - ETA:  - ETA: 3s - loss:\n",
      "Epoch 3/5\n",
      "20000/20000 [==============================] - 9s 438us/sample - loss: 0.2206 - acc: 0.9283\n",
      "Epoch 4/5\n",
      "20000/20000 [==============================] - 9s 427us/sample - loss: 0.1760 - acc: 0.9426\n",
      "Epoch 5/5\n",
      "20000/20000 [==============================] - 9s 431us/sample - loss: 0.1484 - acc: 0.9520\n",
      "20000/20000 [==============================] - 4s 194us/sample - loss: 0.1941 - acc: 0.9236\n",
      "Epoch 1/5\n",
      "20000/20000 [==============================] - 19s 927us/sample - loss: 0.5213 - acc: 0.8367\n",
      "Epoch 2/5\n",
      "20000/20000 [==============================] - 10s 522us/sample - loss: 0.2749 - acc: 0.9122\n",
      "Epoch 3/5\n",
      "20000/20000 [==============================] - 10s 517us/sample - loss: 0.1952 - acc: 0.9351\n",
      "Epoch 4/5\n",
      "20000/20000 [==============================] - 10s 519us/sample - loss: 0.1536 - acc: 0.9485\n",
      "Epoch 5/5\n",
      "20000/20000 [==============================] - 11s 527us/sample - loss: 0.1265 - acc: 0.9596\n",
      "20000/20000 [==============================] - 7s 340us/sample - loss: 0.1926 - acc: 0.9238\n",
      "Epoch 1/5\n",
      "20000/20000 [==============================] - 13s 656us/sample - loss: 0.5166 - acc: 0.8526\n",
      "Epoch 2/5\n",
      "20000/20000 [==============================] - 11s 532us/sample - loss: 0.2751 - acc: 0.9117\n",
      "Epoch 3/5\n",
      "20000/20000 [==============================] - 10s 517us/sample - loss: 0.1981 - acc: 0.9335\n",
      "Epoch 4/5\n",
      "20000/20000 [==============================] - 11s 563us/sample - loss: 0.1573 - acc: 0.9484\n",
      "Epoch 5/5\n",
      "20000/20000 [==============================] - 10s 519us/sample - loss: 0.1298 - acc: 0.9571\n",
      "20000/20000 [==============================] - 5s 236us/sample - loss: 0.1892 - acc: 0.9243\n",
      "Epoch 1/5\n",
      "20000/20000 [==============================] - 16s 783us/sample - loss: 0.5534 - acc: 0.8316\n",
      "Epoch 2/5\n",
      "20000/20000 [==============================] - 9s 450us/sample - loss: 0.3038 - acc: 0.9085\n",
      "Epoch 3/5\n",
      "20000/20000 [==============================] - 9s 427us/sample - loss: 0.2113 - acc: 0.9319\n",
      "Epoch 4/5\n",
      "20000/20000 [==============================] - 9s 429us/sample - loss: 0.1675 - acc: 0.9457\n",
      "Epoch 5/5\n",
      "20000/20000 [==============================] - 9s 425us/sample - loss: 0.1375 - acc: 0.9565\n",
      "20000/20000 [==============================] - 9s 434us/sample - loss: 0.1961 - acc: 0.9234\n",
      "Epoch 1/5\n",
      "20000/20000 [==============================] - 10s 499us/sample - loss: 0.5437 - acc: 0.8378\n",
      "Epoch 2/5\n",
      "20000/20000 [==============================] - 9s 430us/sample - loss: 0.3026 - acc: 0.9096\n",
      "Epoch 3/5\n",
      "20000/20000 [==============================] - 9s 430us/sample - loss: 0.2144 - acc: 0.9297\n",
      "Epoch 4/5\n",
      "20000/20000 [==============================] - 9s 428us/sample - loss: 0.1715 - acc: 0.9441\n",
      "Epoch 5/5\n",
      "20000/20000 [==============================] - 9s 436us/sample - loss: 0.1413 - acc: 0.9564\n",
      "20000/20000 [==============================] - 6s 308us/sample - loss: 0.1937 - acc: 0.9232\n",
      "Epoch 1/5\n",
      "20000/20000 [==============================] - 15s 746us/sample - loss: 0.5234 - acc: 0.8429\n",
      "Epoch 2/5\n",
      "20000/20000 [==============================] - 10s 520us/sample - loss: 0.2794 - acc: 0.9088\n",
      "Epoch 3/5\n",
      "20000/20000 [==============================] - 11s 537us/sample - loss: 0.2013 - acc: 0.9329\n",
      "Epoch 4/5\n",
      "20000/20000 [==============================] - 11s 556us/sample - loss: 0.1607 - acc: 0.9453\n",
      "Epoch 5/5\n",
      "20000/20000 [==============================] - 11s 528us/sample - loss: 0.1350 - acc: 0.9552\n",
      "20000/20000 [==============================] - 5s 256us/sample - loss: 0.1943 - acc: 0.9248\n",
      "Epoch 1/5\n",
      "20000/20000 [==============================] - 12s 624us/sample - loss: 0.5160 - acc: 0.8392\n",
      "Epoch 2/5\n",
      "20000/20000 [==============================] - 11s 559us/sample - loss: 0.2791 - acc: 0.9100\n",
      "Epoch 3/5\n",
      "20000/20000 [==============================] - 10s 520us/sample - loss: 0.2040 - acc: 0.9294\n",
      "Epoch 4/5\n",
      "20000/20000 [==============================] - 10s 520us/sample - loss: 0.1637 - acc: 0.9445\n",
      "Epoch 5/5\n",
      "20000/20000 [==============================] - 10s 525us/sample - loss: 0.1409 - acc: 0.9513\n",
      "20000/20000 [==============================] - 7s 327us/sample - loss: 0.1902 - acc: 0.9244\n",
      "Epoch 1/5\n",
      "40000/40000 [==============================] - 28s 704us/sample - loss: 0.4105 - acc: 0.8709\n",
      "Epoch 2/5\n",
      "40000/40000 [==============================] - 21s 522us/sample - loss: 0.2088 - acc: 0.9221\n",
      "Epoch 3/5\n",
      "40000/40000 [==============================] - 22s 544us/sample - loss: 0.1633 - acc: 0.9401\n",
      "Epoch 4/5\n",
      "40000/40000 [==============================] - 21s 524us/sample - loss: 0.1365 - acc: 0.9505\n",
      "Epoch 5/5\n",
      "40000/40000 [==============================] - 21s 520us/sample - loss: 0.1195 - acc: 0.9565\n"
     ]
    },
    {
     "data": {
      "text/plain": [
       "RandomizedSearchCV(cv=KFold(n_splits=2, random_state=None, shuffle=False),\n",
       "                   error_score=nan,\n",
       "                   estimator=<keras.wrappers.scikit_learn.KerasClassifier object at 0x000001D6A62ECC48>,\n",
       "                   iid='deprecated', n_iter=10, n_jobs=None,\n",
       "                   param_distributions={'batch_size': [128],\n",
       "                                        'drop_out': [0.2, 0.15, 0.1, 0.01],\n",
       "                                        'epochs': [5], 'learning_rate': [0.001],\n",
       "                                        'units': [20, 40, 60]},\n",
       "                   pre_dispatch='2*n_jobs', random_state=None, refit=True,\n",
       "                   return_train_score=False, scoring=None, verbose=0)"
      ]
     },
     "execution_count": 28,
     "metadata": {},
     "output_type": "execute_result"
    }
   ],
   "source": [
    "# takes a lot of time ...\n",
    "random_params.fit(X_train, y_train, verbose = True)"
   ]
  },
  {
   "cell_type": "code",
   "execution_count": 29,
   "metadata": {},
   "outputs": [
    {
     "data": {
      "text/plain": [
       "<keras.wrappers.scikit_learn.KerasClassifier at 0x1d916913148>"
      ]
     },
     "execution_count": 29,
     "metadata": {},
     "output_type": "execute_result"
    }
   ],
   "source": [
    "random_params.best_estimator_"
   ]
  },
  {
   "cell_type": "code",
   "execution_count": 30,
   "metadata": {},
   "outputs": [
    {
     "data": {
      "text/plain": [
       "{'units': 60,\n",
       " 'learning_rate': 0.001,\n",
       " 'epochs': 5,\n",
       " 'drop_out': 0.2,\n",
       " 'batch_size': 128}"
      ]
     },
     "execution_count": 30,
     "metadata": {},
     "output_type": "execute_result"
    }
   ],
   "source": [
    "random_params.best_params_"
   ]
  },
  {
   "cell_type": "code",
   "execution_count": 31,
   "metadata": {},
   "outputs": [
    {
     "name": "stdout",
     "output_type": "stream",
     "text": [
      "Training set Accuracy:  97.46000000000001\n",
      "Test set Accuracy:  92.83\n"
     ]
    }
   ],
   "source": [
    "best_random = random_params.best_estimator_ \n",
    "pred = best_random.predict(X_test)\n",
    "pred_train = best_random.predict(X_train)\n",
    "print(\"Training set Accuracy: \", accuracy_score(pred_train, y_train)*100)\n",
    "print(\"Test set Accuracy: \", accuracy_score(pred, y_test)*100)"
   ]
  },
  {
   "cell_type": "code",
   "execution_count": 59,
   "metadata": {
    "colab": {},
    "colab_type": "code",
    "id": "lsvl7vs090is"
   },
   "outputs": [
    {
     "name": "stdout",
     "output_type": "stream",
     "text": [
      "_________________________________________________________________\n",
      "Layer (type)                 Output Shape              Param #   \n",
      "=================================================================\n",
      "dropout_78 (Dropout)         (None, 20000)             0         \n",
      "_________________________________________________________________\n",
      "dense_128 (Dense)            (None, 64)                1280064   \n",
      "_________________________________________________________________\n",
      "dropout_79 (Dropout)         (None, 64)                0         \n",
      "_________________________________________________________________\n",
      "dense_129 (Dense)            (None, 1)                 65        \n",
      "=================================================================\n",
      "Total params: 1,280,129\n",
      "Trainable params: 1,280,129\n",
      "Non-trainable params: 0\n",
      "_________________________________________________________________\n"
     ]
    }
   ],
   "source": [
    "input_shape = X_train.shape[1:]\n",
    "\n",
    "model4 = Sequential([ \n",
    "    Dropout(0.2, input_shape=input_shape),\n",
    "    Dense(64, activation = 'relu'),\n",
    "    Dropout(0.2),\n",
    "    Dense(1, activation = 'sigmoid'),\n",
    "])\n",
    "\n",
    "optimizer = tf.keras.optimizers.Adam(lr=0.002)\n",
    "model4.compile(optimizer=optimizer, loss='binary_crossentropy', metrics=['acc'])\n",
    "\n",
    "model4.summary()"
   ]
  },
  {
   "cell_type": "code",
   "execution_count": 60,
   "metadata": {},
   "outputs": [
    {
     "name": "stdout",
     "output_type": "stream",
     "text": [
      " ~| Epoch: 1 | Validation Loss: 0.19927 >|> \n",
      " ~| Epoch: 2 | Validation Loss: 0.17206 >|> \n",
      " ~| Epoch: 3 | Validation Loss: 0.17024 >|> \n",
      " ~| Epoch: 4 | Validation Loss: 0.17179 >|> \n",
      "Done.\n"
     ]
    }
   ],
   "source": [
    "epochs = 150\n",
    "batch_size = 128\n",
    "\n",
    "\n",
    "h4 = model4.fit(X_train, y_train, epochs=epochs,\n",
    "               validation_split = 0.2,\n",
    "               callbacks=[early_stop, simple_log],\n",
    "               verbose=False,\n",
    "               batch_size=batch_size)\n",
    "print(\"Done.\")"
   ]
  },
  {
   "cell_type": "code",
   "execution_count": 61,
   "metadata": {},
   "outputs": [
    {
     "data": {
      "image/png": "[encoded data removed]",
      "text/plain": [
       "<Figure size 360x360 with 1 Axes>"
      ]
     },
     "metadata": {},
     "output_type": "display_data"
    }
   ],
   "source": [
    "plot_learning_curve(h4)"
   ]
  },
  {
   "cell_type": "code",
   "execution_count": 62,
   "metadata": {},
   "outputs": [
    {
     "name": "stdout",
     "output_type": "stream",
     "text": [
      "10000/10000 [==============================] - 7s 668us/sample - loss: 0.1904 - acc: 0.9243s - loss: 0.1883\n",
      "Testing Accuracy:  92.43000149726868\n"
     ]
    }
   ],
   "source": [
    "loss, acc = model4.evaluate(X_test, y_test)\n",
    "print(\"Testing Accuracy: \", acc*100)"
   ]
  },
  {
   "cell_type": "code",
   "execution_count": null,
   "metadata": {},
   "outputs": [],
   "source": []
  },
  {
   "cell_type": "code",
   "execution_count": null,
   "metadata": {
    "colab": {},
    "colab_type": "code",
    "id": "gMIV84-h90ex"
   },
   "outputs": [],
   "source": []
  }
 ],
 "metadata": {
  "accelerator": "GPU",
  "colab": {
   "name": "Keras_Models_predictions.ipynb",
   "provenance": []
  },
  "kernelspec": {
   "display_name": "Python 3",
   "language": "python",
   "name": "python3"
  },
  "language_info": {
   "codemirror_mode": {
    "name": "ipython",
    "version": 3
   },
   "file_extension": ".py",
   "mimetype": "text/x-python",
   "name": "python",
   "nbconvert_exporter": "python",
   "pygments_lexer": "ipython3",
   "version": "3.7.7"
  }
 },
 "nbformat": 4,
 "nbformat_minor": 1
}
